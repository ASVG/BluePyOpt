{
 "cells": [
  {
   "cell_type": "markdown",
   "metadata": {},
   "source": [
    "# Creating a simple cell optimisation\n",
    "\n",
    "This notebook will explain how to set up an optimisation of simple single compartmental cell with two free parameters that need to be optimised"
   ]
  },
  {
   "cell_type": "code",
   "execution_count": 81,
   "metadata": {
    "collapsed": false
   },
   "outputs": [
    {
     "name": "stdout",
     "output_type": "stream",
     "text": [
      "The autoreload extension is already loaded. To reload it, use:\n",
      "  %reload_ext autoreload\n"
     ]
    }
   ],
   "source": [
    "%matplotlib notebook\n",
    "import matplotlib.pyplot as plt\n",
    "plt.rcParams['lines.linewidth'] = 2\n",
    "%load_ext autoreload\n",
    "%autoreload"
   ]
  },
  {
   "cell_type": "markdown",
   "metadata": {},
   "source": [
    "First we need to import the module that contains all the functionality to create electrical cell models"
   ]
  },
  {
   "cell_type": "code",
   "execution_count": 2,
   "metadata": {
    "collapsed": true
   },
   "outputs": [],
   "source": [
    "import bluepyopt as bpop\n",
    "import bluepyopt.ephys as ephys"
   ]
  },
  {
   "cell_type": "markdown",
   "metadata": {},
   "source": [
    "If you want to see a lot of information about the internals, \n",
    "the verbose level can be set to 'debug' by commenting out\n",
    "the following lines"
   ]
  },
  {
   "cell_type": "code",
   "execution_count": 3,
   "metadata": {
    "collapsed": true
   },
   "outputs": [],
   "source": [
    "import logging\n",
    "logger = logging.getLogger()\n",
    "logger.setLevel(logging.INFO)"
   ]
  },
  {
   "cell_type": "markdown",
   "metadata": {},
   "source": [
    "Setting up a cell template\n",
    "-------------------------\n",
    "First a template that will describe the cell has to be defined. A template consists of:\n",
    "* a morphology\n",
    "* model mechanisms\n",
    "* model parameters\n",
    "\n",
    "### Creating a morphology\n",
    "A morphology can be loaded from a file (SWC or ASC)."
   ]
  },
  {
   "cell_type": "code",
   "execution_count": 4,
   "metadata": {
    "collapsed": false
   },
   "outputs": [],
   "source": [
    "morph = ephys.morphologies.NrnFileMorphology('simple.swc')"
   ]
  },
  {
   "cell_type": "markdown",
   "metadata": {},
   "source": [
    "By default a Neuron morphology has the following sectionlists: somatic, axonal, apical and basal. Let's create an object that points to the somatic sectionlist. This object will be used later to specify where mechanisms have to be added etc."
   ]
  },
  {
   "cell_type": "code",
   "execution_count": 5,
   "metadata": {
    "collapsed": false
   },
   "outputs": [],
   "source": [
    "somatic_loc = ephys.locations.NrnSeclistLocation('somatic', seclist_name='somatic')"
   ]
  },
  {
   "cell_type": "markdown",
   "metadata": {
    "collapsed": true
   },
   "source": [
    "### Creating a mechanism\n",
    "\n",
    "Now we can add ion channels to this morphology. Let's add the default Neuron Hodgkin-Huxley mechanism to the soma. "
   ]
  },
  {
   "cell_type": "code",
   "execution_count": 6,
   "metadata": {
    "collapsed": false
   },
   "outputs": [],
   "source": [
    "hh_mech = ephys.mechanisms.NrnMODMechanism(\n",
    "        name='hh',\n",
    "        prefix='hh',\n",
    "        locations=[somatic_loc])"
   ]
  },
  {
   "cell_type": "markdown",
   "metadata": {
    "collapsed": true
   },
   "source": [
    "The 'name' field can be chosen by the user, this name should be unique. The 'prefix' points to the same field in the NMODL file of the channel. 'locations' specifies which sections the mechanism will be added to.\n",
    "\n",
    "### Creating parameters\n",
    "\n",
    "Next we need to specify the parameters of the model. A parameter can be in two states: frozen and not-frozen. When a parameter is frozen it has an exact value, otherwise it only has some bounds but the exact value is not known yet.\n",
    "Let's first a parameter that sets the capitance of the soma to a frozen value"
   ]
  },
  {
   "cell_type": "code",
   "execution_count": 7,
   "metadata": {
    "collapsed": false
   },
   "outputs": [],
   "source": [
    "cm_param = ephys.parameters.NrnSectionParameter(\n",
    "        name='cm',\n",
    "        param_name='cm',\n",
    "        value=1.0,\n",
    "        locations=[somatic_loc],\n",
    "        frozen=True)"
   ]
  },
  {
   "cell_type": "markdown",
   "metadata": {},
   "source": [
    "And parameters that represent the maximal conductance of the sodium and potassium channels. These two parameters will be optimised later."
   ]
  },
  {
   "cell_type": "code",
   "execution_count": 8,
   "metadata": {
    "collapsed": false
   },
   "outputs": [],
   "source": [
    "gnabar_param = ephys.parameters.NrnSectionParameter(                                    \n",
    "        name='gnabar_hh',\n",
    "        param_name='gnabar_hh',\n",
    "        locations=[somatic_loc],\n",
    "        bounds=[0.0, 1.0],\n",
    "        frozen=False)     \n",
    "gkbar_param = ephys.parameters.NrnSectionParameter(\n",
    "        name='gkbar_hh',\n",
    "        param_name='gkbar_hh',\n",
    "        bounds=[0.0, .5],\n",
    "        locations=[somatic_loc],\n",
    "        frozen=False)"
   ]
  },
  {
   "cell_type": "markdown",
   "metadata": {
    "collapsed": true
   },
   "source": [
    "### Creating the template\n",
    "\n",
    "To create the cell template, we pass all these objects to the constructor of the template"
   ]
  },
  {
   "cell_type": "code",
   "execution_count": 9,
   "metadata": {
    "collapsed": false
   },
   "outputs": [],
   "source": [
    "simple_cell = ephys.models.CellModel(\n",
    "        name='simple_cell',\n",
    "        morph=morph,\n",
    "        mechs=[hh_mech],\n",
    "        params=[cm_param, gnabar_param, gkbar_param])  "
   ]
  },
  {
   "cell_type": "markdown",
   "metadata": {},
   "source": [
    "Now we can print out a description of the cell"
   ]
  },
  {
   "cell_type": "code",
   "execution_count": 10,
   "metadata": {
    "collapsed": false
   },
   "outputs": [
    {
     "name": "stdout",
     "output_type": "stream",
     "text": [
      "simple_cell:\n",
      "  morphology:\n",
      "    simple.swc\n",
      "  mechanisms:\n",
      "    hh: [<bluepyopt.ephys.locations.NrnSeclistLocation object at 0x10c412090>] hh\n",
      "  params:\n",
      "    cm: ['somatic'] cm = 1.0\n",
      "    gnabar_hh: ['somatic'] gnabar_hh = [0.0, 1.0]\n",
      "    gkbar_hh: ['somatic'] gkbar_hh = [0.0, 0.5]\n",
      "\n"
     ]
    }
   ],
   "source": [
    "print simple_cell"
   ]
  },
  {
   "cell_type": "markdown",
   "metadata": {
    "collapsed": true
   },
   "source": [
    "With this cell we can build a cell evaluator."
   ]
  },
  {
   "cell_type": "markdown",
   "metadata": {
    "collapsed": true
   },
   "source": [
    "## Setting up a cell evaluator\n",
    "\n",
    "To optimise the parameters of the cell we need to create cell evaluator object. \n",
    "This object will need to know which protocols to injection, which parameters to optimise, etc."
   ]
  },
  {
   "cell_type": "markdown",
   "metadata": {
    "collapsed": true
   },
   "source": [
    "### Creating the protocols\n",
    "\n",
    "A protocol consists of a set of stimuli, and a set of responses (i.e. recordings). These responses will later be used by a calculate\n",
    "the score of the parameter values.\n",
    "Let's create two protocols, two square current pulse at somatic[0](0.5) with different amplitudes.\n",
    "We first need to create a location object"
   ]
  },
  {
   "cell_type": "code",
   "execution_count": 11,
   "metadata": {
    "collapsed": false
   },
   "outputs": [],
   "source": [
    "soma_loc = ephys.locations.NrnSeclistCompLocation(\n",
    "        name='soma',\n",
    "        seclist_name='somatic',\n",
    "        sec_index=0,\n",
    "        comp_x=0.5)\n"
   ]
  },
  {
   "cell_type": "markdown",
   "metadata": {},
   "source": [
    "and then the stimuli, recordings and protocols. For each protocol we add a recording and a stimulus in the soma."
   ]
  },
  {
   "cell_type": "code",
   "execution_count": 12,
   "metadata": {
    "collapsed": false
   },
   "outputs": [],
   "source": [
    "sweep_protocols = []\n",
    "for protocol_name, amplitude in [('step1', 0.01), ('step2', 0.05)]:\n",
    "    stim = ephys.stimuli.NrnSquarePulse(\n",
    "                step_amplitude=amplitude,\n",
    "                step_delay=100,\n",
    "                step_duration=50,\n",
    "                location=soma_loc,\n",
    "                total_duration=200)\n",
    "    rec = ephys.recordings.CompRecording(\n",
    "            name='%s.soma.v' % protocol_name,\n",
    "            location=soma_loc,\n",
    "            variable='v')\n",
    "    protocol = ephys.protocols.SweepProtocol(protocol_name, [stim], [rec])\n",
    "    sweep_protocols.append(protocol)\n",
    "twostep_protocol = ephys.protocols.SequenceProtocol('twostep', protocols=sweep_protocols)"
   ]
  },
  {
   "cell_type": "markdown",
   "metadata": {
    "collapsed": true
   },
   "source": [
    "### Running protocols on a cell\n",
    "\n",
    "Now we're at a stage where we can actually run a protocol on the cell. "
   ]
  },
  {
   "cell_type": "code",
   "execution_count": 13,
   "metadata": {
    "collapsed": true
   },
   "outputs": [],
   "source": [
    "nrn = ephys.simulators.NrnSimulator()"
   ]
  },
  {
   "cell_type": "markdown",
   "metadata": {},
   "source": [
    "The run() method of a protocol accepts a cell model, a set of parameter values and a simulator"
   ]
  },
  {
   "cell_type": "code",
   "execution_count": 14,
   "metadata": {
    "collapsed": false
   },
   "outputs": [],
   "source": [
    "default_params = {'gnabar_hh': 0.1, 'gkbar_hh': 0.03}\n",
    "responses = twostep_protocol.run(cell_model=simple_cell, param_values=default_params, sim=nrn)"
   ]
  },
  {
   "cell_type": "markdown",
   "metadata": {},
   "source": [
    "Plotting the response traces is now easy:"
   ]
  },
  {
   "cell_type": "code",
   "execution_count": 15,
   "metadata": {
    "collapsed": false
   },
   "outputs": [
    {
     "data": {
      "image/png": "[encoded data removed]",
      "text/plain": [
       "<matplotlib.figure.Figure at 0x10c424c90>"
      ]
     },
     "metadata": {},
     "output_type": "display_data"
    }
   ],
   "source": [
    "def plot_responses(responses):\n",
    "    plt.subplot(2,1,1)\n",
    "    plt.plot(responses['step1.soma.v']['time'], responses['step1.soma.v']['voltage'], label='step1')\n",
    "    plt.legend()\n",
    "    plt.subplot(2,1,2)\n",
    "    plt.plot(responses['step2.soma.v']['time'], responses['step2.soma.v']['voltage'], label='step2')\n",
    "    plt.legend()\n",
    "    plt.tight_layout()\n",
    "\n",
    "plot_responses(responses)"
   ]
  },
  {
   "cell_type": "markdown",
   "metadata": {},
   "source": [
    "As you can see, when we use different parameter values, the response looks different."
   ]
  },
  {
   "cell_type": "code",
   "execution_count": 16,
   "metadata": {
    "collapsed": false
   },
   "outputs": [
    {
     "data": {
      "image/png": "[encoded data removed]",
      "text/plain": [
       "<matplotlib.figure.Figure at 0x10c412650>"
      ]
     },
     "metadata": {},
     "output_type": "display_data"
    }
   ],
   "source": [
    "other_params = {'gnabar_hh': 0.11, 'gkbar_hh': 0.04}\n",
    "plot_responses(twostep_protocol.run(cell_model=simple_cell, param_values=other_params, sim=nrn))"
   ]
  },
  {
   "cell_type": "code",
   "execution_count": null,
   "metadata": {
    "collapsed": true
   },
   "outputs": [],
   "source": []
  },
  {
   "cell_type": "markdown",
   "metadata": {
    "collapsed": true
   },
   "source": [
    "### Defining eFeatures and objectives\n",
    "\n",
    "For every response we need to define a set of eFeatures we will use for the fitness calculation later. We have to combine features together into objectives that will be used by the optimalisation algorithm. In this case we will create one objective per feature:"
   ]
  },
  {
   "cell_type": "code",
   "execution_count": 17,
   "metadata": {
    "collapsed": false
   },
   "outputs": [],
   "source": [
    "efel_feature_means = {'step1': {'Spikecount': 1}, 'step2': {'Spikecount': 5}}\n",
    "\n",
    "objectives = []\n",
    "\n",
    "for protocol in sweep_protocols:\n",
    "    stim_start = protocol.stimuli[0].step_delay\n",
    "    stim_end = stim_start + protocol.stimuli[0].step_duration\n",
    "    for efel_feature_name, mean in efel_feature_means[protocol.name].iteritems():\n",
    "        feature_name = '%s.%s' % (protocol.name, efel_feature_name)\n",
    "        feature = ephys.efeatures.eFELFeature(\n",
    "                    feature_name,\n",
    "                    efel_feature_name=efel_feature_name,\n",
    "                    recording_names={'': '%s.soma.v' % protocol.name},\n",
    "                    stim_start=stim_start,\n",
    "                    stim_end=stim_end,\n",
    "                    exp_mean=mean,\n",
    "                    exp_std=0.05 * mean)\n",
    "        objective = ephys.objectives.SingletonObjective(\n",
    "            feature_name,\n",
    "            feature)\n",
    "        objectives.append(objective)"
   ]
  },
  {
   "cell_type": "markdown",
   "metadata": {},
   "source": [
    "### Creating the cell evaluator\n",
    "\n",
    "We will need an object that can use these objective definitions to calculate the scores from a protocol response. This is called a ScoreCalculator."
   ]
  },
  {
   "cell_type": "code",
   "execution_count": 18,
   "metadata": {
    "collapsed": false
   },
   "outputs": [],
   "source": [
    "score_calc = ephys.objectivescalculators.ObjectivesCalculator(objectives) "
   ]
  },
  {
   "cell_type": "markdown",
   "metadata": {},
   "source": [
    "Combining everything together we have a CellEvaluator. The CellEvaluator constructor has a field 'parameter_names' which contains the (ordered) list of names of the parameters that are used as input (and will be fitted later on)."
   ]
  },
  {
   "cell_type": "code",
   "execution_count": 19,
   "metadata": {
    "collapsed": false
   },
   "outputs": [],
   "source": [
    "cell_evaluator = ephys.evaluators.CellEvaluator(\n",
    "        cell_model=simple_cell,\n",
    "        param_names=['gnabar_hh', 'gkbar_hh'],\n",
    "        fitness_protocols={twostep_protocol.name: twostep_protocol},\n",
    "        fitness_calculator=score_calc,\n",
    "        sim=nrn)"
   ]
  },
  {
   "cell_type": "markdown",
   "metadata": {},
   "source": [
    "### Evaluating the cell\n",
    "\n",
    "The cell can now be evaluate for a certain set of parameter values."
   ]
  },
  {
   "cell_type": "code",
   "execution_count": 20,
   "metadata": {
    "collapsed": false
   },
   "outputs": [
    {
     "name": "stdout",
     "output_type": "stream",
     "text": [
      "{'step2.Spikecount': 0.0, 'step1.Spikecount': 0.0}\n",
      "{'step2.Spikecount': 4.0, 'step1.Spikecount': 0.0}\n"
     ]
    }
   ],
   "source": [
    "print cell_evaluator.evaluate_with_dicts(default_params)\n",
    "print cell_evaluator.evaluate_with_dicts(other_params)"
   ]
  },
  {
   "cell_type": "markdown",
   "metadata": {
    "collapsed": true
   },
   "source": [
    "## Setting up and running an optimisation\n",
    "\n",
    "Now that we have a cell template and an evaluator for this cell, we can set up an optimisation."
   ]
  },
  {
   "cell_type": "code",
   "execution_count": null,
   "metadata": {
    "collapsed": false
   },
   "outputs": [],
   "source": []
  },
  {
   "cell_type": "markdown",
   "metadata": {},
   "source": [
    "And this optimisation can be run for a certain number of generations"
   ]
  },
  {
   "cell_type": "code",
   "execution_count": 50,
   "metadata": {
    "collapsed": false
   },
   "outputs": [
    {
     "name": "stdout",
     "output_type": "stream",
     "text": [
      "gen\tnevals\tavg  \tstd    \tmin\tmax\n",
      "1  \t100   \t94.3 \t151.741\t4  \t500\n",
      "2  \t100   \t85.83\t141.141\t0  \t500\n",
      "3  \t100   \t46.73\t82.3588\t0  \t500\n",
      "4  \t100   \t59.04\t122.262\t0  \t500\n",
      "5  \t100   \t56.67\t133.515\t0  \t500\n",
      "6  \t100   \t51.36\t133.382\t0  \t500\n",
      "7  \t100   \t51.18\t131.182\t0  \t500\n",
      "8  \t100   \t64.47\t149.273\t0  \t500\n",
      "9  \t100   \t81.21\t173.998\t0  \t500\n",
      "10 \t100   \t84.03\t174.785\t0  \t500\n",
      "gen\tnevals\tavg   \tstd    \tmin\tmax\n",
      "1  \t100   \t113.2 \t169.147\t4  \t500\n",
      "2  \t100   \t111.69\t165.897\t4  \t500\n",
      "3  \t100   \t48.84 \t96.5243\t4  \t500\n",
      "4  \t100   \t53.51 \t120.439\t4  \t500\n",
      "5  \t100   \t45.3  \t123.307\t4  \t500\n",
      "6  \t100   \t59.64 \t137.758\t4  \t500\n",
      "7  \t100   \t52.96 \t128.616\t4  \t500\n",
      "8  \t100   \t79.64 \t156.373\t0  \t500\n",
      "9  \t100   \t32.9  \t93.7274\t4  \t500\n",
      "10 \t100   \t67.67 \t144.767\t4  \t500\n"
     ]
    }
   ],
   "source": [
    "# final_pop, hall_of_fame, logs, hist\n",
    "def run_seed(seed):\n",
    "    optimisation = bpop.optimisations.DEAPOptimisation(\n",
    "        evaluator=cell_evaluator,\n",
    "        offspring_size = 100,\n",
    "        seed=seed, eta=10)\n",
    "    \n",
    "    return optimisation.run(max_ngen=10)\n",
    "\n",
    "results = map(run_seed,[1])"
   ]
  },
  {
   "cell_type": "markdown",
   "metadata": {
    "collapsed": true
   },
   "source": [
    "The optimisation has return us 4 objects: final population, hall of fame, statistical logs and history. \n",
    "\n",
    "The final population contains a list of tuples, with each tuple representing the two parameters of the model"
   ]
  },
  {
   "cell_type": "code",
   "execution_count": 61,
   "metadata": {
    "collapsed": false
   },
   "outputs": [
    {
     "name": "stdout",
     "output_type": "stream",
     "text": [
      "[([[0.037772122456388946, 0.010970895131704544], [0.037772122456388946, 0.010970895131704544], [0.037772122456388946, 0.010970895131704544], [0.037772122456388946, 0.010970895131704544], [0.037772122456388946, 0.010970895131704544], [0.037772122456388946, 0.010970895131704544], [0.037772122456388946, 0.010970895131704544], [0.037772122456388946, 0.010970895131704544], [0.037772122456388946, 0.010970895131704544], [0.037772122456388946, 0.010970895131704544], [0.037772122456388946, 0.010970895131704544], [0.03761328213255034, 0.010957791072553113], [0.037772122456388946, 0.010970895131704544], [0.037772122456388946, 0.010970895131704544], [0.037772122456388946, 0.010970895131704544], [0.037772122456388946, 0.010970895131704544], [0.037772122456388946, 0.010970895131704544], [0.03448303932677754, 0.010970895131704544], [0.037772122456388946, 0.010970895131704544], [0.037772122456388946, 0.010970895131704544], [0.037772122456388946, 0.010970895131704544], [0.037772122456388946, 0.010970895131704544], [0.037772122456388946, 0.010970895131704544], [0.037772122456388946, 0.010970895131704544], [0.037772122456388946, 0.010970895131704544], [0.037772122456388946, 0.010970895131704544], [0.037772122456388946, 0.010970895131704544], [0.037772122456388946, 0.010970895131704544], [0.037772122456388946, 0.010970895131704544], [0.037772122456388946, 0.010970895131704544], [0.037772122456388946, 0.010970895131704544], [0.037772122456388946, 0.010970895131704544], [0.037772122456388946, 0.010970895131704544], [0.037772122456388946, 0.010970895131704544], [0.037772122456388946, 0.010970895131704544], [0.037772122456388946, 0.010970895131704544], [0.037772122456388946, 0.010970895131704544], [0.03680814695792867, 0.010970895131704544], [0.037772122456388946, 0.010970895131704544], [0.04629550300953711, 0.015789473193933763], [0.037772122456388946, 0.010970895131704544], [0.037772122456388946, 0.010970895131704544], [0.037772122456388946, 0.010970895131704544], [0.037772122456388946, 0.010970895131704544], [0.037772122456388946, 0.010970895131704544], [0.03485013330190162, 0.010805820363189916], [0.037772122456388946, 0.010970895131704544], [0.037772122456388946, 0.010970895131704544], [0.03485013330190162, 0.010805820363189916], [0.037772122456388946, 0.010970895131704544], [0.037772122456388946, 0.010970895131704544], [0.037772122456388946, 0.010970895131704544], [0.03761328213255034, 0.010957791072553113], [0.03485013330190162, 0.010805820363189916], [0.037772122456388946, 0.010970895131704544], [0.037772122456388946, 0.010970895131704544], [0.037772122456388946, 0.010970895131704544], [0.037772122456388946, 0.010970895131704544], [0.037772122456388946, 0.010970895131704544], [0.03550354134747047, 0.010820943344970108], [0.037772122456388946, 0.010970895131704544], [0.037772122456388946, 0.010970895131704544], [0.037772122456388946, 0.010970895131704544], [0.03485013330190162, 0.010805820363189916], [0.037772122456388946, 0.010970895131704544], [0.037772122456388946, 0.010970895131704544], [0.037772122456388946, 0.010970895131704544], [0.037772122456388946, 0.010970895131704544], [0.037772122456388946, 0.010970895131704544], [0.037772122456388946, 0.010970895131704544], [0.037772122456388946, 0.010970895131704544], [0.037772122456388946, 0.010970895131704544], [0.037772122456388946, 0.010970895131704544], [0.03532855523823032, 0.010515216490186299], [0.037772122456388946, 0.011786530509464599], [0.03485013330190162, 0.010805820363189916], [0.037772122456388946, 0.010970895131704544], [0.037772122456388946, 0.010970895131704544], [0.037772122456388946, 0.010970895131704544], [0.037772122456388946, 0.010970895131704544], [0.037772122456388946, 0.010970895131704544], [0.03485013330190162, 0.010805820363189916], [0.037772122456388946, 0.010970895131704544], [0.04629550300953711, 0.015789473193933763], [0.037772122456388946, 0.010970895131704544], [0.037772122456388946, 0.010970895131704544], [0.037772122456388946, 0.010970895131704544], [0.037772122456388946, 0.010970895131704544], [0.037772122456388946, 0.010970895131704544], [0.037772122456388946, 0.010970895131704544], [0.037772122456388946, 0.011786530509464599], [0.037772122456388946, 0.010970895131704544], [0.03680814695792867, 0.010970895131704544], [0.03680814695792867, 0.010970895131704544], [0.037772122456388946, 0.010970895131704544], [0.037772122456388946, 0.010970895131704544], [0.037772122456388946, 0.010970895131704544], [0.03761559141865071, 0.010957177518898343], [0.037772122456388946, 0.010970895131704544], [0.037772122456388946, 0.010970895131704544], [0.03765714370763235, 0.010970895131704544], [0.037772122456388946, 0.010970895131704544], [0.037772122456388946, 0.010970895131704544], [0.037772122456388946, 0.010455912130068828], [0.037772122456388946, 0.010970895131704544], [0.037772122456388946, 0.010970895131704544], [0.037772122456388946, 0.010970895131704544], [0.03681971176576035, 0.010970895131704544], [0.037772122456388946, 0.010970895131704544], [0.037772122456388946, 0.010970895131704544], [0.03485013330190162, 0.010822985032350001], [0.037772122456388946, 0.010970895131704544], [0.037772122456388946, 0.010970895131704544], [0.037772122456388946, 0.010970895131704544], [0.037772122456388946, 0.010497966365339312], [0.03715950596529549, 0.010970895131704544], [0.03485013330190162, 0.010693685978170607], [0.03765814284328472, 0.010970895131704544], [0.03496411291500585, 0.010805820363189916], [0.037772122456388946, 0.010970895131704544], [0.037772122456388946, 0.010970895131704544], [0.037659183146531695, 0.010970895131704544], [0.7438421186671211, 0.18227967090926991], [0.6691516978571806, 0.1722574383212245], [0.033284207602477744, 0.010970895131704544], [0.037772122456388946, 0.009899497639569349], [0.037772122456388946, 0.014576621763469605], [0.029871915248659398, 0.009680912179708429], [0.031122270889351045, 0.010970895131704544], [0.025308699461744077, 0.007574629873844368], [0.04470034053437677, 0.011786530509464599], [0.022343177487487112, 0.010970895131704544], [0.01901946362261797, 0.016132683342803406], [0.025019156968913103, 0.010970895131704544], [0.019639571247078207, 0.00824591003415201], [0.037772122456388946, 0.052346616225030645], [0.037772122456388946, 0.05794115892494481], [0.037772122456388946, 0.05068834033981842], [0.11910685177826866, 0.06702072026751496], [0.03746427930457837, 0.015269501413671418], [0.03237320176546099, 0.04875438170258392], [0.03485013330190162, 0.06507096281988331], [0.09697398526960821, 0.06126855450417665], [0.037772122456388946, 0.03540656394669475], [0.03483769062113873, 0.037929673196701236], [0.051768781904551864, 0.08835333027507683], [0.035189164078966176, 0.03139687704189864], [0.019530421205577853, 0.010805820363189916], [0.015561714819550376, 0.010862138857825748], [0.02675603443693876, 0.010515216490186299], [0.037772122456388946, 0.0646673627773868], [0.037772122456388946, 0.030297584305232134], [0.09989442166395879, 0.10779433885220083], [0.037772122456388946, 0.01634507913500116], [0.037772122456388946, 0.034780215074007], [0.6148696154787062, 0.27763754049807954], [0.037772122456388946, 0.0194342005649234], [0.037772122456388946, 0.05393421995039463], [0.01437657256004634, 0.004469608215258741], [0.037772122456388946, 0.17221572809265398], [0.001214217629375347, 0.010970895131704544], [0.03757812148487283, 0.07959965887189166], [0.0008170623765539897, 0.010970895131704544], [0.0095728025562839, 0.10117494981009165], [0.005511292903055631, 0.03881194509778155], [0.005186057599513391, 0.010957791072553113], [0.03819809302638055, 0.09683876073736977], [0.005821656740019644, 0.011786530509464599], [0.08027840709060308, 0.010970895131704544], [0.08315407772874917, 0.010970895131704544], [0.16915363844960107, 0.010970895131704544], [0.14150416703441082, 0.010970895131704544], [0.1812533817657643, 0.010971508685359312], [0.082052523675744, 0.015293610798822438], [0.05602200758966536, 0.010471691214988227], [0.016855358611483018, 0.002170671284680764], [0.15982756603923198, 0.005049341927478385], [0.19162798514698853, 0.017414954498522456], [0.1344705560357442, 0.010970895131704544], [0.15347406168417038, 0.02343427536735264], [0.1917259067154854, 0.024392637705504955], [0.037772122456388946, 0.004033448095675265], [0.037772122456388946, 0.008375794727947656], [0.7438421186671211, 0.11687061015196767], [0.11101474459163142, 0.0013658048090268993], [0.07671015856147356, 0.004870170245164923], [0.14306090676765215, 0.010970895131704544], [0.03808649972489324, 0.0063408879435058445], [0.11042141398986223, 0.010970895131704544], [0.2168692976625275, 0.03447849576305753], [0.037772122456388946, 0.007725257081739739], [0.037772122456388946, 0.005875185691975787], [0.12324010916032391, 0.0063791036523568045], [0.037772122456388946, 0.0049977147984499315], [0.037772122456388946, 0.0049620537502806095], [0.0454914843523373, 0.010970895131704544], [0.037772122456388946, 0.00731942308620373], [0.037772122456388946, 0.0011767172882768129], [0.07454210234419945, 0.010970895131704544], [0.14021404866013343, 0.0022957548371784486]], <deap.tools.support.HallOfFame object at 0x10c7a6dd0>, [{'std': 151.74093053622678, 'nevals': 100, 'min': 4.0, 'max': 500.0, 'avg': 94.299999999999997, 'gen': 1}, {'std': 141.14131606301538, 'nevals': 100, 'min': 0.0, 'max': 500.0, 'avg': 85.829999999999998, 'gen': 2}, {'std': 82.358770631912662, 'nevals': 100, 'min': 0.0, 'max': 500.0, 'avg': 46.729999999999997, 'gen': 3}, {'std': 122.26184359807436, 'nevals': 100, 'min': 0.0, 'max': 500.0, 'avg': 59.039999999999999, 'gen': 4}, {'std': 133.51543393930157, 'nevals': 100, 'min': 0.0, 'max': 500.0, 'avg': 56.670000000000002, 'gen': 5}, {'std': 133.38242163043824, 'nevals': 100, 'min': 0.0, 'max': 500.0, 'avg': 51.359999999999999, 'gen': 6}, {'std': 131.18234484868762, 'nevals': 100, 'min': 0.0, 'max': 500.0, 'avg': 51.18, 'gen': 7}, {'std': 149.27316939088553, 'nevals': 100, 'min': 0.0, 'max': 500.0, 'avg': 64.469999999999999, 'gen': 8}, {'std': 173.99837901543796, 'nevals': 100, 'min': 0.0, 'max': 500.0, 'avg': 81.209999999999994, 'gen': 9}, {'std': 174.7850654375253, 'nevals': 100, 'min': 0.0, 'max': 500.0, 'avg': 84.030000000000001, 'gen': 10}], <deap.tools.support.History object at 0x10c7a6950>), ([[0.20463431157123724, 0.04640490837835652], [0.1712242016231485, 0.040746463619675904], [0.18122506082517154, 0.04153812724498669], [0.1712242016231485, 0.040746463619675904], [0.23257592196282315, 0.04845388582478253], [0.23145208084837232, 0.04707520498241121], [0.23257592196282315, 0.04845388582478253], [0.16357151265442266, 0.03942518951712902], [0.23145208084837232, 0.04707520498241121], [0.19733441112307704, 0.04152838933780794], [0.23257592196282315, 0.04845388582478253], [0.19733441112307704, 0.04152838933780794], [0.1712242016231485, 0.040746463619675904], [0.16151812235709812, 0.037931336582847044], [0.1712242016231485, 0.042476062322531705], [0.1709557614955721, 0.041792019028212876], [0.19733441112307704, 0.04152838933780794], [0.1715299458974589, 0.040746463619675904], [0.8128409872961776, 0.18309198327169895], [0.5665898138566346, 0.15498071976623512], [0.7131732546997492, 0.15498071976623512], [0.47012048248625116, 0.1318075040904697], [0.4727795120983127, 0.11276378517394381], [0.48002656496611384, 0.11276378517394381], [0.48002656496611384, 0.11812002607123825], [0.6922724407219456, 0.15850894547153366], [0.9420607290783517, 0.20478635963541703], [0.8435919580312181, 0.20760547446266975], [0.43011180006546224, 0.11779844937014847], [0.42299308185465484, 0.11298474211156537], [0.18122506082517154, 0.04689339422915917], [0.694603446662607, 0.1540682287945721], [0.4798053956941098, 0.11276378517394381], [0.6922724407219456, 0.15850894547153366], [0.4728423313178287, 0.11276378517394381], [0.42717415806918957, 0.12584373524021397], [0.47012048248625116, 0.1318075040904697], [0.4728423313178287, 0.11276378517394381], [0.3927332192978939, 0.11043215717434524], [0.5406181566958937, 0.1519510919884578], [0.6922724407219456, 0.15850894547153366], [0.18122506082517154, 0.04689339422915917], [0.8435919580312181, 0.20760547446266975], [0.6649338449967427, 0.15377179924746034], [0.5406181566958937, 0.1519510919884578], [0.5766332214509553, 0.1547746443269689], [0.9584521326802208, 0.20756693086748568], [0.5766332214509553, 0.1547746443269689], [0.47012048248625116, 0.1318075040904697], [0.8128409872961776, 0.18309198327169895], [0.47012048248625116, 0.1318075040904697], [0.48002656496611384, 0.11807402966657884], [0.46519078643060446, 0.11276378517394381], [0.18122506082517154, 0.04689339422915917], [0.8731433918867433, 0.20679998570374802], [0.48002656496611384, 0.11807402966657884], [0.42772378780502734, 0.12819538512479067], [0.8435919580312181, 0.20760547446266975], [0.1712242016231485, 0.0471496771271436], [0.47012048248625116, 0.1318075040904697], [0.6134399714387465, 0.1557865214404513], [0.48002656496611384, 0.11807402966657884], [0.6998564881317565, 0.17557194534099688], [0.7347273215690787, 0.17291865932010764], [0.46519078643060446, 0.11134319946851706], [0.16048373715336672, 0.04658812269742617], [0.18165888524453627, 0.04689339422915917], [0.46519078643060446, 0.11306916481737395], [0.8731433918867433, 0.20449744087323835], [0.37799881158552395, 0.08969780446816128], [0.47012048248625116, 0.1318075040904697], [0.9417840918744436, 0.2163770606277182], [0.8731433918867433, 0.20449744087323835], [0.694603446662607, 0.1540682287945721], [0.9420607290783517, 0.20478635963541703], [0.694603446662607, 0.1540682287945721], [0.694603446662607, 0.1540682287945721], [0.42299308185465484, 0.11298474211156537], [0.43502759826705273, 0.12253663433451067], [0.46519078643060446, 0.11276378517394381], [0.694603446662607, 0.1540682287945721], [0.46519078643060446, 0.11276378517394381], [0.8290408072988769, 0.18409963907602284], [0.5766332214509553, 0.15619523003693056], [0.47012048248625116, 0.1318075040904697], [0.5665898138566346, 0.15498071976623512], [0.43502759826705273, 0.12253663433451067], [0.18122506082517154, 0.04689339422915917], [0.5406181566958937, 0.1519510919884578], [0.8731433918867433, 0.20756693086748568], [0.4314550994731745, 0.12584373524021397], [0.18122506082517154, 0.04689339422915917], [0.47012048248625116, 0.1318075040904697], [0.8435919580312181, 0.20760547446266975], [0.5766332214509553, 0.15619523003693056], [0.13110008255842448, 0.04094465136858764], [0.47012048248625116, 0.1318075040904697], [0.4900040233278709, 0.12390639208306929], [0.6134399714387465, 0.1557865214404513], [0.6922724407219456, 0.15850894547153366], [0.47012048248625116, 0.13099354361569915], [0.7347273215690787, 0.17291865932010764], [0.13110008255842448, 0.04094465136858764], [0.47012048248625116, 0.1318075040904697], [0.8067321898404459, 0.17958348968433194], [0.484397890609056, 0.1334985151843445], [0.4727795120983127, 0.12617168153244596], [0.48002656496611384, 0.11276378517394381], [0.4493731368958157, 0.12693363855566206], [0.9836921911138632, 0.20478635963541703], [0.422896884648188, 0.11298474211156537], [0.5745640949375913, 0.15850894547153366], [0.4330524165267327, 0.1013561222151726], [0.5057165825112404, 0.1318075040904697], [0.3927332192978939, 0.11043215717434524], [0.5406181566958937, 0.1519510919884578], [0.8738691385733471, 0.2090809311684634], [0.5213748776453194, 0.13878127149831715], [0.47012048248625116, 0.10955526921137324], [0.47495665197134734, 0.1085137865626635], [0.4929311019281604, 0.12819538512479067], [0.47012048248625116, 0.1318075040904697], [0.6965626608350628, 0.1756110508588113], [0.5574850839900296, 0.1318075040904697], [0.952304393852429, 0.22109118986845064], [0.9242173662207906, 0.20456216684578088], [0.9579332227460654, 0.20632145862263881], [0.4667086063514221, 0.12254043678543744], [0.43350977834623516, 0.09868424436246007], [0.42198942198376443, 0.11522197982871739], [0.16357151265442266, 0.047529539644664796], [0.8435919580312181, 0.2082934672460679], [0.13110008255842448, 0.04094465136858764], [0.4736303215488963, 0.12390639208306929], [0.6922724407219456, 0.15850894547153366], [0.5412581382531478, 0.15474091037032628], [0.6709219847700285, 0.18725234333880436], [0.5875233386861379, 0.18446345697944722], [0.5481220593700472, 0.16648524280360172], [0.4314550994731745, 0.13588226580918614], [0.7079021555078724, 0.13316876493168964], [0.5854670411835889, 0.11276378517394381], [0.4406077528759464, 0.08393627708649615], [0.95037715604218, 0.17828775402605068], [0.8435919580312181, 0.17677627653895484], [0.8594554647884997, 0.15404618527922218], [0.48002656496611384, 0.10716944378449123], [0.5866193357988514, 0.11134334594269876], [0.801350016143837, 0.15253312980889588], [0.76442105413352, 0.15410319845018422], [0.8223875419375664, 0.15452274579592726], [0.5008462681215653, 0.10603613855433935], [0.7439062961401883, 0.1557865214404513], [0.28458419189925294, 0.15008122947925656], [0.04567499612094092, 0.04695514811440623], [0.49661865549791684, 0.250580815846456], [0.22881906830320786, 0.11884909153242917], [0.29927339091822414, 0.1256159458304757], [0.053384982219508104, 0.0471496771271436], [0.46519078643060446, 0.2619853747770911], [0.16048373715336672, 0.1269148869374631], [0.17340462975988272, 0.09024986929628945], [0.3672784923115913, 0.23200603111774365], [0.7107347867959714, 0.24341460319593758], [0.5766332214509553, 0.18577212331703088], [0.455936551251479, 0.20042083464231975], [0.3209398993173176, 0.18150459473924874], [0.1911927537229276, 0.15068805037862293], [0.18122506082517154, 0.0904307256696748], [0.22553910894223628, 0.15619523003693056], [0.4536201548305139, 0.18446345697944722], [0.06309010041210583, 0.04152838933780794], [0.47012048248625116, 0.1866033777572857], [0.5766332214509553, 0.05191673780817874], [0.4443903995081834, 0.041943286622141085], [0.7497996925174748, 0.0993341605409262], [0.18122506082517154, 0.014830375266828892], [0.6011472779018733, 0.0801938332664627], [0.5773356287010313, 0.046300377957022056], [0.870020889075403, 0.10536675886737826], [0.677880414259526, 0.09460690647457484], [0.2052850307254284, 0.03759599094842247], [0.6169029710059178, 0.0882013646894077], [0.29473170520280534, 0.04075234895026922], [0.7423304134905057, 0.0748954366050848], [0.43976387598641375, 0.07256464552170863], [0.455070568982227, 0.06416794808932108], [0.8499947778414536, 0.1391150461925076], [0.5244712425721934, 0.010309266516227537], [0.8672295473635557, 0.11784250188840427], [0.6998564881317565, 0.12141981382786043], [0.8835950627896938, 0.11468143463474642], [0.43242872231688056, 0.05926377354526116], [0.44505448537643055, 0.0761806943211269], [0.5902520468912121, 0.036844272350361806], [0.23145208084837232, 0.03897085485487838], [0.47012048248625116, 0.07515876853792625], [0.5836714232369703, 0.02162862402917213], [0.7347273215690787, 0.10492968568863001], [0.13110008255842448, 0.021295821148667994]], <deap.tools.support.HallOfFame object at 0x10c856cd0>, [{'std': 169.14656366595216, 'nevals': 100, 'min': 4.0, 'max': 500.0, 'avg': 113.2, 'gen': 1}, {'std': 165.89720883727972, 'nevals': 100, 'min': 4.0, 'max': 500.0, 'avg': 111.69, 'gen': 2}, {'std': 96.524268450996303, 'nevals': 100, 'min': 4.0, 'max': 500.0, 'avg': 48.840000000000003, 'gen': 3}, {'std': 120.43911283299957, 'nevals': 100, 'min': 4.0, 'max': 500.0, 'avg': 53.509999999999998, 'gen': 4}, {'std': 123.30689356236333, 'nevals': 100, 'min': 4.0, 'max': 500.0, 'avg': 45.299999999999997, 'gen': 5}, {'std': 137.75830428689227, 'nevals': 100, 'min': 4.0, 'max': 500.0, 'avg': 59.640000000000001, 'gen': 6}, {'std': 128.61585594319232, 'nevals': 100, 'min': 4.0, 'max': 500.0, 'avg': 52.960000000000001, 'gen': 7}, {'std': 156.37272908023317, 'nevals': 100, 'min': 0.0, 'max': 500.0, 'avg': 79.640000000000001, 'gen': 8}, {'std': 93.727423948383432, 'nevals': 100, 'min': 4.0, 'max': 500.0, 'avg': 32.899999999999999, 'gen': 9}, {'std': 144.76723075337179, 'nevals': 100, 'min': 4.0, 'max': 500.0, 'avg': 67.670000000000002, 'gen': 10}], <deap.tools.support.History object at 0x10c856510>)]\n"
     ]
    }
   ],
   "source": [
    "pop, hall_of_fame, logs, _ = results[0]\n",
    "print results"
   ]
  },
  {
   "cell_type": "markdown",
   "metadata": {},
   "source": [
    "The best individual found during the optimisation is the first individual of the hall of fame"
   ]
  },
  {
   "cell_type": "code",
   "execution_count": 62,
   "metadata": {
    "collapsed": false
   },
   "outputs": [
    {
     "name": "stdout",
     "output_type": "stream",
     "text": [
      "Best individual:  [0.037772122456388946, 0.012932474643949393]\n",
      "Fitness values:  (0.0, 0.0)\n"
     ]
    }
   ],
   "source": [
    "best_ind = hall_of_fame[0]\n",
    "print 'Best individual: ', best_ind\n",
    "print 'Fitness values: ', best_ind.fitness.values"
   ]
  },
  {
   "cell_type": "markdown",
   "metadata": {},
   "source": [
    "We can evaluate this individual and make use of a convenience function of the cell evaluator to return us a dict of the parameters"
   ]
  },
  {
   "cell_type": "code",
   "execution_count": 63,
   "metadata": {
    "collapsed": false
   },
   "outputs": [
    {
     "name": "stdout",
     "output_type": "stream",
     "text": [
      "{'step2.Spikecount': 0.0, 'step1.Spikecount': 0.0}\n"
     ]
    }
   ],
   "source": [
    "best_ind_dict = cell_evaluator.param_dict(best_ind)\n",
    "print cell_evaluator.evaluate_with_dicts(best_ind_dict)"
   ]
  },
  {
   "cell_type": "markdown",
   "metadata": {},
   "source": [
    "As you can see the evaluation returns the same values as the fitness values provided by the optimisation output. \n",
    "We can have a look at the responses now."
   ]
  },
  {
   "cell_type": "code",
   "execution_count": 64,
   "metadata": {
    "collapsed": false
   },
   "outputs": [
    {
     "data": {
      "image/png": "[encoded data removed]",
      "text/plain": [
       "<matplotlib.figure.Figure at 0x1103e9c90>"
      ]
     },
     "metadata": {},
     "output_type": "display_data"
    }
   ],
   "source": [
    "plot_responses(twostep_protocol.run(cell_model=simple_cell, param_values=best_ind_dict, sim=nrn))"
   ]
  },
  {
   "cell_type": "markdown",
   "metadata": {},
   "source": [
    "Let's have a look at the optimisation statistics.\n",
    "We can plot the minimal score (sum of all objective scores) found in every optimisation. \n",
    "The optimisation algorithm uses negative fitness scores, so we actually have to look at the maximum values log."
   ]
  },
  {
   "cell_type": "code",
   "execution_count": 151,
   "metadata": {
    "collapsed": false
   },
   "outputs": [
    {
     "data": {
      "application/javascript": [
       "/* Put everything inside the global mpl namespace */\n",
       "window.mpl = {};\n",
       "\n",
       "mpl.get_websocket_type = function() {\n",
       "    if (typeof(WebSocket) !== 'undefined') {\n",
       "        return WebSocket;\n",
       "    } else if (typeof(MozWebSocket) !== 'undefined') {\n",
       "        return MozWebSocket;\n",
       "    } else {\n",
       "        alert('Your browser does not have WebSocket support.' +\n",
       "              'Please try Chrome, Safari or Firefox ≥ 6. ' +\n",
       "              'Firefox 4 and 5 are also supported but you ' +\n",
       "              'have to enable WebSockets in about:config.');\n",
       "    };\n",
       "}\n",
       "\n",
       "mpl.figure = function(figure_id, websocket, ondownload, parent_element) {\n",
       "    this.id = figure_id;\n",
       "\n",
       "    this.ws = websocket;\n",
       "\n",
       "    this.supports_binary = (this.ws.binaryType != undefined);\n",
       "\n",
       "    if (!this.supports_binary) {\n",
       "        var warnings = document.getElementById(\"mpl-warnings\");\n",
       "        if (warnings) {\n",
       "            warnings.style.display = 'block';\n",
       "            warnings.textContent = (\n",
       "                \"This browser does not support binary websocket messages. \" +\n",
       "                    \"Performance may be slow.\");\n",
       "        }\n",
       "    }\n",
       "\n",
       "    this.imageObj = new Image();\n",
       "\n",
       "    this.context = undefined;\n",
       "    this.message = undefined;\n",
       "    this.canvas = undefined;\n",
       "    this.rubberband_canvas = undefined;\n",
       "    this.rubberband_context = undefined;\n",
       "    this.format_dropdown = undefined;\n",
       "\n",
       "    this.image_mode = 'full';\n",
       "\n",
       "    this.root = $('<div/>');\n",
       "    this._root_extra_style(this.root)\n",
       "    this.root.attr('style', 'display: inline-block');\n",
       "\n",
       "    $(parent_element).append(this.root);\n",
       "\n",
       "    this._init_header(this);\n",
       "    this._init_canvas(this);\n",
       "    this._init_toolbar(this);\n",
       "\n",
       "    var fig = this;\n",
       "\n",
       "    this.waiting = false;\n",
       "\n",
       "    this.ws.onopen =  function () {\n",
       "            fig.send_message(\"supports_binary\", {value: fig.supports_binary});\n",
       "            fig.send_message(\"send_image_mode\", {});\n",
       "            fig.send_message(\"refresh\", {});\n",
       "        }\n",
       "\n",
       "    this.imageObj.onload = function() {\n",
       "            if (fig.image_mode == 'full') {\n",
       "                // Full images could contain transparency (where diff images\n",
       "                // almost always do), so we need to clear the canvas so that\n",
       "                // there is no ghosting.\n",
       "                fig.context.clearRect(0, 0, fig.canvas.width, fig.canvas.height);\n",
       "            }\n",
       "            fig.context.drawImage(fig.imageObj, 0, 0);\n",
       "        };\n",
       "\n",
       "    this.imageObj.onunload = function() {\n",
       "        this.ws.close();\n",
       "    }\n",
       "\n",
       "    this.ws.onmessage = this._make_on_message_function(this);\n",
       "\n",
       "    this.ondownload = ondownload;\n",
       "}\n",
       "\n",
       "mpl.figure.prototype._init_header = function() {\n",
       "    var titlebar = $(\n",
       "        '<div class=\"ui-dialog-titlebar ui-widget-header ui-corner-all ' +\n",
       "        'ui-helper-clearfix\"/>');\n",
       "    var titletext = $(\n",
       "        '<div class=\"ui-dialog-title\" style=\"width: 100%; ' +\n",
       "        'text-align: center; padding: 3px;\"/>');\n",
       "    titlebar.append(titletext)\n",
       "    this.root.append(titlebar);\n",
       "    this.header = titletext[0];\n",
       "}\n",
       "\n",
       "\n",
       "\n",
       "mpl.figure.prototype._canvas_extra_style = function(canvas_div) {\n",
       "\n",
       "}\n",
       "\n",
       "\n",
       "mpl.figure.prototype._root_extra_style = function(canvas_div) {\n",
       "\n",
       "}\n",
       "\n",
       "mpl.figure.prototype._init_canvas = function() {\n",
       "    var fig = this;\n",
       "\n",
       "    var canvas_div = $('<div/>');\n",
       "\n",
       "    canvas_div.attr('style', 'position: relative; clear: both; outline: 0');\n",
       "\n",
       "    function canvas_keyboard_event(event) {\n",
       "        return fig.key_event(event, event['data']);\n",
       "    }\n",
       "\n",
       "    canvas_div.keydown('key_press', canvas_keyboard_event);\n",
       "    canvas_div.keyup('key_release', canvas_keyboard_event);\n",
       "    this.canvas_div = canvas_div\n",
       "    this._canvas_extra_style(canvas_div)\n",
       "    this.root.append(canvas_div);\n",
       "\n",
       "    var canvas = $('<canvas/>');\n",
       "    canvas.addClass('mpl-canvas');\n",
       "    canvas.attr('style', \"left: 0; top: 0; z-index: 0; outline: 0\")\n",
       "\n",
       "    this.canvas = canvas[0];\n",
       "    this.context = canvas[0].getContext(\"2d\");\n",
       "\n",
       "    var rubberband = $('<canvas/>');\n",
       "    rubberband.attr('style', \"position: absolute; left: 0; top: 0; z-index: 1;\")\n",
       "\n",
       "    var pass_mouse_events = true;\n",
       "\n",
       "    canvas_div.resizable({\n",
       "        start: function(event, ui) {\n",
       "            pass_mouse_events = false;\n",
       "        },\n",
       "        resize: function(event, ui) {\n",
       "            fig.request_resize(ui.size.width, ui.size.height);\n",
       "        },\n",
       "        stop: function(event, ui) {\n",
       "            pass_mouse_events = true;\n",
       "            fig.request_resize(ui.size.width, ui.size.height);\n",
       "        },\n",
       "    });\n",
       "\n",
       "    function mouse_event_fn(event) {\n",
       "        if (pass_mouse_events)\n",
       "            return fig.mouse_event(event, event['data']);\n",
       "    }\n",
       "\n",
       "    rubberband.mousedown('button_press', mouse_event_fn);\n",
       "    rubberband.mouseup('button_release', mouse_event_fn);\n",
       "    // Throttle sequential mouse events to 1 every 20ms.\n",
       "    rubberband.mousemove('motion_notify', mouse_event_fn);\n",
       "\n",
       "    rubberband.mouseenter('figure_enter', mouse_event_fn);\n",
       "    rubberband.mouseleave('figure_leave', mouse_event_fn);\n",
       "\n",
       "    canvas_div.on(\"wheel\", function (event) {\n",
       "        event = event.originalEvent;\n",
       "        event['data'] = 'scroll'\n",
       "        if (event.deltaY < 0) {\n",
       "            event.step = 1;\n",
       "        } else {\n",
       "            event.step = -1;\n",
       "        }\n",
       "        mouse_event_fn(event);\n",
       "    });\n",
       "\n",
       "    canvas_div.append(canvas);\n",
       "    canvas_div.append(rubberband);\n",
       "\n",
       "    this.rubberband = rubberband;\n",
       "    this.rubberband_canvas = rubberband[0];\n",
       "    this.rubberband_context = rubberband[0].getContext(\"2d\");\n",
       "    this.rubberband_context.strokeStyle = \"#000000\";\n",
       "\n",
       "    this._resize_canvas = function(width, height) {\n",
       "        // Keep the size of the canvas, canvas container, and rubber band\n",
       "        // canvas in synch.\n",
       "        canvas_div.css('width', width)\n",
       "        canvas_div.css('height', height)\n",
       "\n",
       "        canvas.attr('width', width);\n",
       "        canvas.attr('height', height);\n",
       "\n",
       "        rubberband.attr('width', width);\n",
       "        rubberband.attr('height', height);\n",
       "    }\n",
       "\n",
       "    // Set the figure to an initial 600x600px, this will subsequently be updated\n",
       "    // upon first draw.\n",
       "    this._resize_canvas(600, 600);\n",
       "\n",
       "    // Disable right mouse context menu.\n",
       "    $(this.rubberband_canvas).bind(\"contextmenu\",function(e){\n",
       "        return false;\n",
       "    });\n",
       "\n",
       "    function set_focus () {\n",
       "        canvas.focus();\n",
       "        canvas_div.focus();\n",
       "    }\n",
       "\n",
       "    window.setTimeout(set_focus, 100);\n",
       "}\n",
       "\n",
       "mpl.figure.prototype._init_toolbar = function() {\n",
       "    var fig = this;\n",
       "\n",
       "    var nav_element = $('<div/>')\n",
       "    nav_element.attr('style', 'width: 100%');\n",
       "    this.root.append(nav_element);\n",
       "\n",
       "    // Define a callback function for later on.\n",
       "    function toolbar_event(event) {\n",
       "        return fig.toolbar_button_onclick(event['data']);\n",
       "    }\n",
       "    function toolbar_mouse_event(event) {\n",
       "        return fig.toolbar_button_onmouseover(event['data']);\n",
       "    }\n",
       "\n",
       "    for(var toolbar_ind in mpl.toolbar_items) {\n",
       "        var name = mpl.toolbar_items[toolbar_ind][0];\n",
       "        var tooltip = mpl.toolbar_items[toolbar_ind][1];\n",
       "        var image = mpl.toolbar_items[toolbar_ind][2];\n",
       "        var method_name = mpl.toolbar_items[toolbar_ind][3];\n",
       "\n",
       "        if (!name) {\n",
       "            // put a spacer in here.\n",
       "            continue;\n",
       "        }\n",
       "        var button = $('<button/>');\n",
       "        button.addClass('ui-button ui-widget ui-state-default ui-corner-all ' +\n",
       "                        'ui-button-icon-only');\n",
       "        button.attr('role', 'button');\n",
       "        button.attr('aria-disabled', 'false');\n",
       "        button.click(method_name, toolbar_event);\n",
       "        button.mouseover(tooltip, toolbar_mouse_event);\n",
       "\n",
       "        var icon_img = $('<span/>');\n",
       "        icon_img.addClass('ui-button-icon-primary ui-icon');\n",
       "        icon_img.addClass(image);\n",
       "        icon_img.addClass('ui-corner-all');\n",
       "\n",
       "        var tooltip_span = $('<span/>');\n",
       "        tooltip_span.addClass('ui-button-text');\n",
       "        tooltip_span.html(tooltip);\n",
       "\n",
       "        button.append(icon_img);\n",
       "        button.append(tooltip_span);\n",
       "\n",
       "        nav_element.append(button);\n",
       "    }\n",
       "\n",
       "    var fmt_picker_span = $('<span/>');\n",
       "\n",
       "    var fmt_picker = $('<select/>');\n",
       "    fmt_picker.addClass('mpl-toolbar-option ui-widget ui-widget-content');\n",
       "    fmt_picker_span.append(fmt_picker);\n",
       "    nav_element.append(fmt_picker_span);\n",
       "    this.format_dropdown = fmt_picker[0];\n",
       "\n",
       "    for (var ind in mpl.extensions) {\n",
       "        var fmt = mpl.extensions[ind];\n",
       "        var option = $(\n",
       "            '<option/>', {selected: fmt === mpl.default_extension}).html(fmt);\n",
       "        fmt_picker.append(option)\n",
       "    }\n",
       "\n",
       "    // Add hover states to the ui-buttons\n",
       "    $( \".ui-button\" ).hover(\n",
       "        function() { $(this).addClass(\"ui-state-hover\");},\n",
       "        function() { $(this).removeClass(\"ui-state-hover\");}\n",
       "    );\n",
       "\n",
       "    var status_bar = $('<span class=\"mpl-message\"/>');\n",
       "    nav_element.append(status_bar);\n",
       "    this.message = status_bar[0];\n",
       "}\n",
       "\n",
       "mpl.figure.prototype.request_resize = function(x_pixels, y_pixels) {\n",
       "    // Request matplotlib to resize the figure. Matplotlib will then trigger a resize in the client,\n",
       "    // which will in turn request a refresh of the image.\n",
       "    this.send_message('resize', {'width': x_pixels, 'height': y_pixels});\n",
       "}\n",
       "\n",
       "mpl.figure.prototype.send_message = function(type, properties) {\n",
       "    properties['type'] = type;\n",
       "    properties['figure_id'] = this.id;\n",
       "    this.ws.send(JSON.stringify(properties));\n",
       "}\n",
       "\n",
       "mpl.figure.prototype.send_draw_message = function() {\n",
       "    if (!this.waiting) {\n",
       "        this.waiting = true;\n",
       "        this.ws.send(JSON.stringify({type: \"draw\", figure_id: this.id}));\n",
       "    }\n",
       "}\n",
       "\n",
       "\n",
       "mpl.figure.prototype.handle_save = function(fig, msg) {\n",
       "    var format_dropdown = fig.format_dropdown;\n",
       "    var format = format_dropdown.options[format_dropdown.selectedIndex].value;\n",
       "    fig.ondownload(fig, format);\n",
       "}\n",
       "\n",
       "\n",
       "mpl.figure.prototype.handle_resize = function(fig, msg) {\n",
       "    var size = msg['size'];\n",
       "    if (size[0] != fig.canvas.width || size[1] != fig.canvas.height) {\n",
       "        fig._resize_canvas(size[0], size[1]);\n",
       "        fig.send_message(\"refresh\", {});\n",
       "    };\n",
       "}\n",
       "\n",
       "mpl.figure.prototype.handle_rubberband = function(fig, msg) {\n",
       "    var x0 = msg['x0'];\n",
       "    var y0 = fig.canvas.height - msg['y0'];\n",
       "    var x1 = msg['x1'];\n",
       "    var y1 = fig.canvas.height - msg['y1'];\n",
       "    x0 = Math.floor(x0) + 0.5;\n",
       "    y0 = Math.floor(y0) + 0.5;\n",
       "    x1 = Math.floor(x1) + 0.5;\n",
       "    y1 = Math.floor(y1) + 0.5;\n",
       "    var min_x = Math.min(x0, x1);\n",
       "    var min_y = Math.min(y0, y1);\n",
       "    var width = Math.abs(x1 - x0);\n",
       "    var height = Math.abs(y1 - y0);\n",
       "\n",
       "    fig.rubberband_context.clearRect(\n",
       "        0, 0, fig.canvas.width, fig.canvas.height);\n",
       "\n",
       "    fig.rubberband_context.strokeRect(min_x, min_y, width, height);\n",
       "}\n",
       "\n",
       "mpl.figure.prototype.handle_figure_label = function(fig, msg) {\n",
       "    // Updates the figure title.\n",
       "    fig.header.textContent = msg['label'];\n",
       "}\n",
       "\n",
       "mpl.figure.prototype.handle_cursor = function(fig, msg) {\n",
       "    var cursor = msg['cursor'];\n",
       "    switch(cursor)\n",
       "    {\n",
       "    case 0:\n",
       "        cursor = 'pointer';\n",
       "        break;\n",
       "    case 1:\n",
       "        cursor = 'default';\n",
       "        break;\n",
       "    case 2:\n",
       "        cursor = 'crosshair';\n",
       "        break;\n",
       "    case 3:\n",
       "        cursor = 'move';\n",
       "        break;\n",
       "    }\n",
       "    fig.rubberband_canvas.style.cursor = cursor;\n",
       "}\n",
       "\n",
       "mpl.figure.prototype.handle_message = function(fig, msg) {\n",
       "    fig.message.textContent = msg['message'];\n",
       "}\n",
       "\n",
       "mpl.figure.prototype.handle_draw = function(fig, msg) {\n",
       "    // Request the server to send over a new figure.\n",
       "    fig.send_draw_message();\n",
       "}\n",
       "\n",
       "mpl.figure.prototype.handle_image_mode = function(fig, msg) {\n",
       "    fig.image_mode = msg['mode'];\n",
       "}\n",
       "\n",
       "mpl.figure.prototype.updated_canvas_event = function() {\n",
       "    // Called whenever the canvas gets updated.\n",
       "    this.send_message(\"ack\", {});\n",
       "}\n",
       "\n",
       "// A function to construct a web socket function for onmessage handling.\n",
       "// Called in the figure constructor.\n",
       "mpl.figure.prototype._make_on_message_function = function(fig) {\n",
       "    return function socket_on_message(evt) {\n",
       "        if (evt.data instanceof Blob) {\n",
       "            /* FIXME: We get \"Resource interpreted as Image but\n",
       "             * transferred with MIME type text/plain:\" errors on\n",
       "             * Chrome.  But how to set the MIME type?  It doesn't seem\n",
       "             * to be part of the websocket stream */\n",
       "            evt.data.type = \"image/png\";\n",
       "\n",
       "            /* Free the memory for the previous frames */\n",
       "            if (fig.imageObj.src) {\n",
       "                (window.URL || window.webkitURL).revokeObjectURL(\n",
       "                    fig.imageObj.src);\n",
       "            }\n",
       "\n",
       "            fig.imageObj.src = (window.URL || window.webkitURL).createObjectURL(\n",
       "                evt.data);\n",
       "            fig.updated_canvas_event();\n",
       "            fig.waiting = false;\n",
       "            return;\n",
       "        }\n",
       "        else if (typeof evt.data === 'string' && evt.data.slice(0, 21) == \"data:image/png;base64\") {\n",
       "            fig.imageObj.src = evt.data;\n",
       "            fig.updated_canvas_event();\n",
       "            fig.waiting = false;\n",
       "            return;\n",
       "        }\n",
       "\n",
       "        var msg = JSON.parse(evt.data);\n",
       "        var msg_type = msg['type'];\n",
       "\n",
       "        // Call the  \"handle_{type}\" callback, which takes\n",
       "        // the figure and JSON message as its only arguments.\n",
       "        try {\n",
       "            var callback = fig[\"handle_\" + msg_type];\n",
       "        } catch (e) {\n",
       "            console.log(\"No handler for the '\" + msg_type + \"' message type: \", msg);\n",
       "            return;\n",
       "        }\n",
       "\n",
       "        if (callback) {\n",
       "            try {\n",
       "                // console.log(\"Handling '\" + msg_type + \"' message: \", msg);\n",
       "                callback(fig, msg);\n",
       "            } catch (e) {\n",
       "                console.log(\"Exception inside the 'handler_\" + msg_type + \"' callback:\", e, e.stack, msg);\n",
       "            }\n",
       "        }\n",
       "    };\n",
       "}\n",
       "\n",
       "// from http://stackoverflow.com/questions/1114465/getting-mouse-location-in-canvas\n",
       "mpl.findpos = function(e) {\n",
       "    //this section is from http://www.quirksmode.org/js/events_properties.html\n",
       "    var targ;\n",
       "    if (!e)\n",
       "        e = window.event;\n",
       "    if (e.target)\n",
       "        targ = e.target;\n",
       "    else if (e.srcElement)\n",
       "        targ = e.srcElement;\n",
       "    if (targ.nodeType == 3) // defeat Safari bug\n",
       "        targ = targ.parentNode;\n",
       "\n",
       "    // jQuery normalizes the pageX and pageY\n",
       "    // pageX,Y are the mouse positions relative to the document\n",
       "    // offset() returns the position of the element relative to the document\n",
       "    var x = e.pageX - $(targ).offset().left;\n",
       "    var y = e.pageY - $(targ).offset().top;\n",
       "\n",
       "    return {\"x\": x, \"y\": y};\n",
       "};\n",
       "\n",
       "/*\n",
       " * return a copy of an object with only non-object keys\n",
       " * we need this to avoid circular references\n",
       " * http://stackoverflow.com/a/24161582/3208463\n",
       " */\n",
       "function simpleKeys (original) {\n",
       "  return Object.keys(original).reduce(function (obj, key) {\n",
       "    if (typeof original[key] !== 'object')\n",
       "        obj[key] = original[key]\n",
       "    return obj;\n",
       "  }, {});\n",
       "}\n",
       "\n",
       "mpl.figure.prototype.mouse_event = function(event, name) {\n",
       "    var canvas_pos = mpl.findpos(event)\n",
       "\n",
       "    if (name === 'button_press')\n",
       "    {\n",
       "        this.canvas.focus();\n",
       "        this.canvas_div.focus();\n",
       "    }\n",
       "\n",
       "    var x = canvas_pos.x;\n",
       "    var y = canvas_pos.y;\n",
       "\n",
       "    this.send_message(name, {x: x, y: y, button: event.button,\n",
       "                             step: event.step,\n",
       "                             guiEvent: simpleKeys(event)});\n",
       "\n",
       "    /* This prevents the web browser from automatically changing to\n",
       "     * the text insertion cursor when the button is pressed.  We want\n",
       "     * to control all of the cursor setting manually through the\n",
       "     * 'cursor' event from matplotlib */\n",
       "    event.preventDefault();\n",
       "    return false;\n",
       "}\n",
       "\n",
       "mpl.figure.prototype._key_event_extra = function(event, name) {\n",
       "    // Handle any extra behaviour associated with a key event\n",
       "}\n",
       "\n",
       "mpl.figure.prototype.key_event = function(event, name) {\n",
       "\n",
       "    // Prevent repeat events\n",
       "    if (name == 'key_press')\n",
       "    {\n",
       "        if (event.which === this._key)\n",
       "            return;\n",
       "        else\n",
       "            this._key = event.which;\n",
       "    }\n",
       "    if (name == 'key_release')\n",
       "        this._key = null;\n",
       "\n",
       "    var value = '';\n",
       "    if (event.ctrlKey && event.which != 17)\n",
       "        value += \"ctrl+\";\n",
       "    if (event.altKey && event.which != 18)\n",
       "        value += \"alt+\";\n",
       "    if (event.shiftKey && event.which != 16)\n",
       "        value += \"shift+\";\n",
       "\n",
       "    value += 'k';\n",
       "    value += event.which.toString();\n",
       "\n",
       "    this._key_event_extra(event, name);\n",
       "\n",
       "    this.send_message(name, {key: value,\n",
       "                             guiEvent: simpleKeys(event)});\n",
       "    return false;\n",
       "}\n",
       "\n",
       "mpl.figure.prototype.toolbar_button_onclick = function(name) {\n",
       "    if (name == 'download') {\n",
       "        this.handle_save(this, null);\n",
       "    } else {\n",
       "        this.send_message(\"toolbar_button\", {name: name});\n",
       "    }\n",
       "};\n",
       "\n",
       "mpl.figure.prototype.toolbar_button_onmouseover = function(tooltip) {\n",
       "    this.message.textContent = tooltip;\n",
       "};\n",
       "mpl.toolbar_items = [[\"Home\", \"Reset original view\", \"fa fa-home icon-home\", \"home\"], [\"Back\", \"Back to  previous view\", \"fa fa-arrow-left icon-arrow-left\", \"back\"], [\"Forward\", \"Forward to next view\", \"fa fa-arrow-right icon-arrow-right\", \"forward\"], [\"\", \"\", \"\", \"\"], [\"Pan\", \"Pan axes with left mouse, zoom with right\", \"fa fa-arrows icon-move\", \"pan\"], [\"Zoom\", \"Zoom to rectangle\", \"fa fa-square-o icon-check-empty\", \"zoom\"], [\"\", \"\", \"\", \"\"], [\"Download\", \"Download plot\", \"fa fa-floppy-o icon-save\", \"download\"]];\n",
       "\n",
       "mpl.extensions = [\"eps\", \"pdf\", \"png\", \"ps\", \"raw\", \"svg\"];\n",
       "\n",
       "mpl.default_extension = \"png\";var comm_websocket_adapter = function(comm) {\n",
       "    // Create a \"websocket\"-like object which calls the given IPython comm\n",
       "    // object with the appropriate methods. Currently this is a non binary\n",
       "    // socket, so there is still some room for performance tuning.\n",
       "    var ws = {};\n",
       "\n",
       "    ws.close = function() {\n",
       "        comm.close()\n",
       "    };\n",
       "    ws.send = function(m) {\n",
       "        //console.log('sending', m);\n",
       "        comm.send(m);\n",
       "    };\n",
       "    // Register the callback with on_msg.\n",
       "    comm.on_msg(function(msg) {\n",
       "        //console.log('receiving', msg['content']['data'], msg);\n",
       "        // Pass the mpl event to the overriden (by mpl) onmessage function.\n",
       "        ws.onmessage(msg['content']['data'])\n",
       "    });\n",
       "    return ws;\n",
       "}\n",
       "\n",
       "mpl.mpl_figure_comm = function(comm, msg) {\n",
       "    // This is the function which gets called when the mpl process\n",
       "    // starts-up an IPython Comm through the \"matplotlib\" channel.\n",
       "\n",
       "    var id = msg.content.data.id;\n",
       "    // Get hold of the div created by the display call when the Comm\n",
       "    // socket was opened in Python.\n",
       "    var element = $(\"#\" + id);\n",
       "    var ws_proxy = comm_websocket_adapter(comm)\n",
       "\n",
       "    function ondownload(figure, format) {\n",
       "        window.open(figure.imageObj.src);\n",
       "    }\n",
       "\n",
       "    var fig = new mpl.figure(id, ws_proxy,\n",
       "                           ondownload,\n",
       "                           element.get(0));\n",
       "\n",
       "    // Call onopen now - mpl needs it, as it is assuming we've passed it a real\n",
       "    // web socket which is closed, not our websocket->open comm proxy.\n",
       "    ws_proxy.onopen();\n",
       "\n",
       "    fig.parent_element = element.get(0);\n",
       "    fig.cell_info = mpl.find_output_cell(\"<div id='\" + id + \"'></div>\");\n",
       "    if (!fig.cell_info) {\n",
       "        console.error(\"Failed to find cell for figure\", id, fig);\n",
       "        return;\n",
       "    }\n",
       "\n",
       "    var output_index = fig.cell_info[2]\n",
       "    var cell = fig.cell_info[0];\n",
       "\n",
       "};\n",
       "\n",
       "mpl.figure.prototype.handle_close = function(fig, msg) {\n",
       "    fig.root.unbind('remove')\n",
       "\n",
       "    // Update the output cell to use the data from the current canvas.\n",
       "    fig.push_to_output();\n",
       "    var dataURL = fig.canvas.toDataURL();\n",
       "    // Re-enable the keyboard manager in IPython - without this line, in FF,\n",
       "    // the notebook keyboard shortcuts fail.\n",
       "    IPython.keyboard_manager.enable()\n",
       "    $(fig.parent_element).html('<img src=\"' + dataURL + '\">');\n",
       "    fig.close_ws(fig, msg);\n",
       "}\n",
       "\n",
       "mpl.figure.prototype.close_ws = function(fig, msg){\n",
       "    fig.send_message('closing', msg);\n",
       "    // fig.ws.close()\n",
       "}\n",
       "\n",
       "mpl.figure.prototype.push_to_output = function(remove_interactive) {\n",
       "    // Turn the data on the canvas into data in the output cell.\n",
       "    var dataURL = this.canvas.toDataURL();\n",
       "    this.cell_info[1]['text/html'] = '<img src=\"' + dataURL + '\">';\n",
       "}\n",
       "\n",
       "mpl.figure.prototype.updated_canvas_event = function() {\n",
       "    // Tell IPython that the notebook contents must change.\n",
       "    IPython.notebook.set_dirty(true);\n",
       "    this.send_message(\"ack\", {});\n",
       "    var fig = this;\n",
       "    // Wait a second, then push the new image to the DOM so\n",
       "    // that it is saved nicely (might be nice to debounce this).\n",
       "    setTimeout(function () { fig.push_to_output() }, 1000);\n",
       "}\n",
       "\n",
       "mpl.figure.prototype._init_toolbar = function() {\n",
       "    var fig = this;\n",
       "\n",
       "    var nav_element = $('<div/>')\n",
       "    nav_element.attr('style', 'width: 100%');\n",
       "    this.root.append(nav_element);\n",
       "\n",
       "    // Define a callback function for later on.\n",
       "    function toolbar_event(event) {\n",
       "        return fig.toolbar_button_onclick(event['data']);\n",
       "    }\n",
       "    function toolbar_mouse_event(event) {\n",
       "        return fig.toolbar_button_onmouseover(event['data']);\n",
       "    }\n",
       "\n",
       "    for(var toolbar_ind in mpl.toolbar_items){\n",
       "        var name = mpl.toolbar_items[toolbar_ind][0];\n",
       "        var tooltip = mpl.toolbar_items[toolbar_ind][1];\n",
       "        var image = mpl.toolbar_items[toolbar_ind][2];\n",
       "        var method_name = mpl.toolbar_items[toolbar_ind][3];\n",
       "\n",
       "        if (!name) { continue; };\n",
       "\n",
       "        var button = $('<button class=\"btn btn-default\" href=\"#\" title=\"' + name + '\"><i class=\"fa ' + image + ' fa-lg\"></i></button>');\n",
       "        button.click(method_name, toolbar_event);\n",
       "        button.mouseover(tooltip, toolbar_mouse_event);\n",
       "        nav_element.append(button);\n",
       "    }\n",
       "\n",
       "    // Add the status bar.\n",
       "    var status_bar = $('<span class=\"mpl-message\" style=\"text-align:right; float: right;\"/>');\n",
       "    nav_element.append(status_bar);\n",
       "    this.message = status_bar[0];\n",
       "\n",
       "    // Add the close button to the window.\n",
       "    var buttongrp = $('<div class=\"btn-group inline pull-right\"></div>');\n",
       "    var button = $('<button class=\"btn btn-mini btn-primary\" href=\"#\" title=\"Stop Interaction\"><i class=\"fa fa-power-off icon-remove icon-large\"></i></button>');\n",
       "    button.click(function (evt) { fig.handle_close(fig, {}); } );\n",
       "    button.mouseover('Stop Interaction', toolbar_mouse_event);\n",
       "    buttongrp.append(button);\n",
       "    var titlebar = this.root.find($('.ui-dialog-titlebar'));\n",
       "    titlebar.prepend(buttongrp);\n",
       "}\n",
       "\n",
       "mpl.figure.prototype._root_extra_style = function(el){\n",
       "    var fig = this\n",
       "    el.on(\"remove\", function(){\n",
       "\tfig.close_ws(fig, {});\n",
       "    });\n",
       "}\n",
       "\n",
       "mpl.figure.prototype._canvas_extra_style = function(el){\n",
       "    // this is important to make the div 'focusable\n",
       "    el.attr('tabindex', 0)\n",
       "    // reach out to IPython and tell the keyboard manager to turn it's self\n",
       "    // off when our div gets focus\n",
       "\n",
       "    // location in version 3\n",
       "    if (IPython.notebook.keyboard_manager) {\n",
       "        IPython.notebook.keyboard_manager.register_events(el);\n",
       "    }\n",
       "    else {\n",
       "        // location in version 2\n",
       "        IPython.keyboard_manager.register_events(el);\n",
       "    }\n",
       "\n",
       "}\n",
       "\n",
       "mpl.figure.prototype._key_event_extra = function(event, name) {\n",
       "    var manager = IPython.notebook.keyboard_manager;\n",
       "    if (!manager)\n",
       "        manager = IPython.keyboard_manager;\n",
       "\n",
       "    // Check for shift+enter\n",
       "    if (event.shiftKey && event.which == 13) {\n",
       "        this.canvas_div.blur();\n",
       "        event.shiftKey = false;\n",
       "        // Send a \"J\" for go to next cell\n",
       "        event.which = 74;\n",
       "        event.keyCode = 74;\n",
       "        manager.command_mode();\n",
       "        manager.handle_keydown(event);\n",
       "    }\n",
       "}\n",
       "\n",
       "mpl.figure.prototype.handle_save = function(fig, msg) {\n",
       "    fig.ondownload(fig, null);\n",
       "}\n",
       "\n",
       "\n",
       "mpl.find_output_cell = function(html_output) {\n",
       "    // Return the cell and output element which can be found *uniquely* in the notebook.\n",
       "    // Note - this is a bit hacky, but it is done because the \"notebook_saving.Notebook\"\n",
       "    // IPython event is triggered only after the cells have been serialised, which for\n",
       "    // our purposes (turning an active figure into a static one), is too late.\n",
       "    var cells = IPython.notebook.get_cells();\n",
       "    var ncells = cells.length;\n",
       "    for (var i=0; i<ncells; i++) {\n",
       "        var cell = cells[i];\n",
       "        if (cell.cell_type === 'code'){\n",
       "            for (var j=0; j<cell.output_area.outputs.length; j++) {\n",
       "                var data = cell.output_area.outputs[j];\n",
       "                if (data.data) {\n",
       "                    // IPython >= 3 moved mimebundle to data attribute of output\n",
       "                    data = data.data;\n",
       "                }\n",
       "                if (data['text/html'] == html_output) {\n",
       "                    return [cell, data, j];\n",
       "                }\n",
       "            }\n",
       "        }\n",
       "    }\n",
       "}\n",
       "\n",
       "// Register the function which deals with the matplotlib target/channel.\n",
       "// The kernel may be null if the page has been refreshed.\n",
       "if (IPython.notebook.kernel != null) {\n",
       "    IPython.notebook.kernel.comm_manager.register_target('matplotlib', mpl.mpl_figure_comm);\n",
       "}\n"
      ],
      "text/plain": [
       "<IPython.core.display.Javascript object>"
      ]
     },
     "metadata": {},
     "output_type": "display_data"
    },
    {
     "data": {
      "text/html": [
       "<img src=\"data:image/png;base64,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\">"
      ],
      "text/plain": [
       "<IPython.core.display.HTML object>"
      ]
     },
     "metadata": {},
     "output_type": "display_data"
    }
   ],
   "source": [
    "import numpy\n",
    "\n",
    "gen_numbers = logs.select('gen')\n",
    "min_fitness = logs.select('min')\n",
    "max_fitness = logs.select('max')\n",
    "fig, ax = plt.subplots(4, figsize=(10, 10), facecolor='white')\n",
    "ax[0].plot(responses['step1.soma.v']['time'], responses['step1.soma.v']['voltage'], label='Step1')\n",
    "ax[0].plot(responses['step2.soma.v']['time'], responses['step2.soma.v']['voltage'], label='Step2')\n",
    "ax[0].set_xlabel('Time (ms)')\n",
    "ax[0].set_ylabel('Voltage (mV)')\n",
    "ax[0].legend()\n",
    "\n",
    "ax[1].plot(gen_numbers, min_fitness, label='min fitness')\n",
    "ax[1].set_xlabel('Generation #')\n",
    "ax[1].set_ylabel('Sum of objectives')\n",
    "ax[1].legend()\n",
    "ax[1].set_xlim(min(gen_numbers) - 1, max(gen_numbers) + 1) \n",
    "ax[1].set_ylim(min(min_fitness) - 1, max(min_fitness) + 1) \n",
    "yloc = plt.MaxNLocator(3)                                                       \n",
    "ax[1].yaxis.set_major_locator(yloc) \n",
    "\n",
    "all_inds = []\n",
    "for _, _, _, hist in results[:1]:\n",
    "    all_inds += hist.genealogy_history.values()\n",
    "\n",
    "gnabars = numpy.array([ind[0] for ind in all_inds if ind.fitness.valid])\n",
    "gkbars = numpy.array([ind[1] for ind in all_inds if ind.fitness.valid])\n",
    "sums = numpy.array([ind.fitness.sum for ind in all_inds if ind.fitness.valid])\n",
    "logsums = numpy.log(sums+1.0)\n",
    "# psums = zip(gnabars, gkbars, sums)\n",
    "zero_gnabars = gnabars[numpy.where(sums == 0)]\n",
    "zero_gkbars = gkbars[numpy.where(sums == 0)]\n",
    "\n",
    "# X = numpy.linspace(gnabar_param.bounds[0], gnabar_param.bounds[1], 150)\n",
    "# Y = numpy.linspace(gkbar_param.bounds[0], gkbar_param.bounds[1], 150)\n",
    "# X,Y = numpy.meshgrid(X,Y)\n",
    "import matplotlib\n",
    "import scipy.interpolate\n",
    "# Z1 = scipy.interpolate.griddata(numpy.vstack((gnabars.flatten(), gkbars.flatten())).T, numpy.vstack(sums.flatten()), (X, Y), method='linear').reshape(X.shape)\n",
    "# Z = matplotlib.mlab.griddata(gnabars, gkbars, sums, X, Y, interp='linear')\n",
    "# Z1m = numpy.ma.masked_where(numpy.isnan(Z1),Z1)\n",
    "# mesh_axes = ax[2].pcolormesh(X,Y,Z1m)\n",
    "\n",
    "# plt.plot(gnabars, gkbars, '.', color='k')\n",
    "\n",
    "trip_axis = ax[2].tripcolor(gnabars,gkbars,logsums,20)\n",
    "# plt.tricontourf(gnabars,gkbars,sums,20)\n",
    "cbar_ax = fig.add_axes([0.85, 0.29, 0.025, 0.2])\n",
    "fig.colorbar(trip_axis, cax=cbar_ax, label='log(sum of objectives) + 1')\n",
    "ax[2].set_xlabel('Parameter gnabar')\n",
    "ax[2].set_ylabel('Parameter gkbar')\n",
    "\n",
    "plot_axis = ax[3].plot(zero_gnabars, zero_gkbars, 'o', color='gray')\n",
    "ax[3].set_xlabel('Parameter gnabar')\n",
    "ax[3].set_ylabel('Parameter gkbar')\n",
    "# fig.colorbar(trip_axis, ax=ax[3])\n",
    "\n",
    "fig.tight_layout()\n",
    "\n",
    "fig.subplots_adjust(right=0.8, hspace=0.4)\n",
    "\n",
    "# print X, Y\n",
    "# print Z\n",
    "fig.savefig('figures/simplecell.eps')\n",
    "fig.show()"
   ]
  },
  {
   "cell_type": "code",
   "execution_count": null,
   "metadata": {
    "collapsed": false
   },
   "outputs": [],
   "source": []
  },
  {
   "cell_type": "code",
   "execution_count": null,
   "metadata": {
    "collapsed": true
   },
   "outputs": [],
   "source": []
  },
  {
   "cell_type": "code",
   "execution_count": null,
   "metadata": {
    "collapsed": true
   },
   "outputs": [],
   "source": []
  }
 ],
 "metadata": {
  "kernelspec": {
   "display_name": "Python 2",
   "language": "python",
   "name": "python2"
  },
  "language_info": {
   "codemirror_mode": {
    "name": "ipython",
    "version": 2
   },
   "file_extension": ".py",
   "mimetype": "text/x-python",
   "name": "python",
   "nbconvert_exporter": "python",
   "pygments_lexer": "ipython2",
   "version": "2.7.11"
  }
 },
 "nbformat": 4,
 "nbformat_minor": 0
}
