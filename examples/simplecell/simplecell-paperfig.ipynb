{
 "cells": [
  {
   "cell_type": "markdown",
   "metadata": {},
   "source": [
    "# Creating a simple cell optimisation\n",
    "\n",
    "This notebook will explain how to set up an optimisation of simple single compartmental cell with two free parameters that need to be optimised"
   ]
  },
  {
   "cell_type": "code",
   "execution_count": 1,
   "metadata": {
    "collapsed": false
   },
   "outputs": [],
   "source": [
    "%matplotlib inline\n",
    "import matplotlib.pyplot as plt\n",
    "plt.rcParams['lines.linewidth'] = 2\n",
    "%load_ext autoreload\n",
    "%autoreload"
   ]
  },
  {
   "cell_type": "markdown",
   "metadata": {},
   "source": [
    "First we need to import the module that contains all the functionality to create electrical cell models"
   ]
  },
  {
   "cell_type": "code",
   "execution_count": 2,
   "metadata": {
    "collapsed": true
   },
   "outputs": [],
   "source": [
    "import bluepyopt as bpop\n",
    "import bluepyopt.ephys as ephys"
   ]
  },
  {
   "cell_type": "markdown",
   "metadata": {},
   "source": [
    "If you want to see a lot of information about the internals, \n",
    "the verbose level can be set to 'debug' by commenting out\n",
    "the following lines"
   ]
  },
  {
   "cell_type": "code",
   "execution_count": 3,
   "metadata": {
    "collapsed": true
   },
   "outputs": [],
   "source": [
    "# import logging\n",
    "# logger = logging.getLogger()\n",
    "# logger.setLevel(logging.DEBUG)"
   ]
  },
  {
   "cell_type": "markdown",
   "metadata": {},
   "source": [
    "Setting up a cell template\n",
    "-------------------------\n",
    "First a template that will describe the cell has to be defined. A template consists of:\n",
    "* a morphology\n",
    "* model mechanisms\n",
    "* model parameters\n",
    "\n",
    "### Creating a morphology\n",
    "A morphology can be loaded from a file (SWC or ASC)."
   ]
  },
  {
   "cell_type": "code",
   "execution_count": 4,
   "metadata": {
    "collapsed": false
   },
   "outputs": [],
   "source": [
    "morph = ephys.morphologies.NrnFileMorphology('simple.swc')"
   ]
  },
  {
   "cell_type": "markdown",
   "metadata": {},
   "source": [
    "By default a Neuron morphology has the following sectionlists: somatic, axonal, apical and basal. Let's create an object that points to the somatic sectionlist. This object will be used later to specify where mechanisms have to be added etc."
   ]
  },
  {
   "cell_type": "code",
   "execution_count": 5,
   "metadata": {
    "collapsed": false
   },
   "outputs": [],
   "source": [
    "somatic_loc = ephys.locations.NrnSeclistLocation('somatic', seclist_name='somatic')"
   ]
  },
  {
   "cell_type": "markdown",
   "metadata": {
    "collapsed": true
   },
   "source": [
    "### Creating a mechanism\n",
    "\n",
    "Now we can add ion channels to this morphology. Let's add the default Neuron Hodgkin-Huxley mechanism to the soma. "
   ]
  },
  {
   "cell_type": "code",
   "execution_count": 6,
   "metadata": {
    "collapsed": false
   },
   "outputs": [],
   "source": [
    "hh_mech = ephys.mechanisms.NrnMODMechanism(\n",
    "        name='hh',\n",
    "        prefix='hh',\n",
    "        locations=[somatic_loc])"
   ]
  },
  {
   "cell_type": "markdown",
   "metadata": {
    "collapsed": true
   },
   "source": [
    "The 'name' field can be chosen by the user, this name should be unique. The 'prefix' points to the same field in the NMODL file of the channel. 'locations' specifies which sections the mechanism will be added to.\n",
    "\n",
    "### Creating parameters\n",
    "\n",
    "Next we need to specify the parameters of the model. A parameter can be in two states: frozen and not-frozen. When a parameter is frozen it has an exact value, otherwise it only has some bounds but the exact value is not known yet.\n",
    "Let's first a parameter that sets the capitance of the soma to a frozen value"
   ]
  },
  {
   "cell_type": "code",
   "execution_count": 7,
   "metadata": {
    "collapsed": false
   },
   "outputs": [],
   "source": [
    "cm_param = ephys.parameters.NrnSectionParameter(\n",
    "        name='cm',\n",
    "        param_name='cm',\n",
    "        value=1.0,\n",
    "        locations=[somatic_loc],\n",
    "        frozen=True)"
   ]
  },
  {
   "cell_type": "markdown",
   "metadata": {},
   "source": [
    "And parameters that represent the maximal conductance of the sodium and potassium channels. These two parameters will be optimised later."
   ]
  },
  {
   "cell_type": "code",
   "execution_count": 8,
   "metadata": {
    "collapsed": false
   },
   "outputs": [],
   "source": [
    "gnabar_param = ephys.parameters.NrnSectionParameter(                                    \n",
    "        name='gnabar_hh',\n",
    "        param_name='gnabar_hh',\n",
    "        locations=[somatic_loc],\n",
    "        bounds=[0.0, 1.0],\n",
    "        frozen=False)     \n",
    "gkbar_param = ephys.parameters.NrnSectionParameter(\n",
    "        name='gkbar_hh',\n",
    "        param_name='gkbar_hh',\n",
    "        bounds=[0.0, .5],\n",
    "        locations=[somatic_loc],\n",
    "        frozen=False)"
   ]
  },
  {
   "cell_type": "markdown",
   "metadata": {
    "collapsed": true
   },
   "source": [
    "### Creating the template\n",
    "\n",
    "To create the cell template, we pass all these objects to the constructor of the template"
   ]
  },
  {
   "cell_type": "code",
   "execution_count": 9,
   "metadata": {
    "collapsed": false
   },
   "outputs": [],
   "source": [
    "simple_cell = ephys.models.CellModel(\n",
    "        name='simple_cell',\n",
    "        morph=morph,\n",
    "        mechs=[hh_mech],\n",
    "        params=[cm_param, gnabar_param, gkbar_param])  "
   ]
  },
  {
   "cell_type": "markdown",
   "metadata": {},
   "source": [
    "Now we can print out a description of the cell"
   ]
  },
  {
   "cell_type": "code",
   "execution_count": 10,
   "metadata": {
    "collapsed": false
   },
   "outputs": [
    {
     "name": "stdout",
     "output_type": "stream",
     "text": [
      "simple_cell:\n",
      "  morphology:\n",
      "    simple.swc\n",
      "  mechanisms:\n",
      "    hh: [<bluepyopt.ephys.locations.NrnSeclistLocation object at 0x111132050>] hh\n",
      "  params:\n",
      "    cm: ['somatic'] cm = 1.0\n",
      "    gnabar_hh: ['somatic'] gnabar_hh = [0.0, 1.0]\n",
      "    gkbar_hh: ['somatic'] gkbar_hh = [0.0, 0.5]\n",
      "\n"
     ]
    }
   ],
   "source": [
    "print simple_cell"
   ]
  },
  {
   "cell_type": "markdown",
   "metadata": {
    "collapsed": true
   },
   "source": [
    "With this cell we can build a cell evaluator."
   ]
  },
  {
   "cell_type": "markdown",
   "metadata": {
    "collapsed": true
   },
   "source": [
    "## Setting up a cell evaluator\n",
    "\n",
    "To optimise the parameters of the cell we need to create cell evaluator object. \n",
    "This object will need to know which protocols to injection, which parameters to optimise, etc."
   ]
  },
  {
   "cell_type": "markdown",
   "metadata": {
    "collapsed": true
   },
   "source": [
    "### Creating the protocols\n",
    "\n",
    "A protocol consists of a set of stimuli, and a set of responses (i.e. recordings). These responses will later be used by a calculate\n",
    "the score of the parameter values.\n",
    "Let's create two protocols, two square current pulse at somatic[0](0.5) with different amplitudes.\n",
    "We first need to create a location object"
   ]
  },
  {
   "cell_type": "code",
   "execution_count": 11,
   "metadata": {
    "collapsed": false
   },
   "outputs": [],
   "source": [
    "soma_loc = ephys.locations.NrnSeclistCompLocation(\n",
    "        name='soma',\n",
    "        seclist_name='somatic',\n",
    "        sec_index=0,\n",
    "        comp_x=0.5)\n"
   ]
  },
  {
   "cell_type": "markdown",
   "metadata": {},
   "source": [
    "and then the stimuli, recordings and protocols. For each protocol we add a recording and a stimulus in the soma."
   ]
  },
  {
   "cell_type": "code",
   "execution_count": 12,
   "metadata": {
    "collapsed": false
   },
   "outputs": [],
   "source": [
    "sweep_protocols = []\n",
    "for protocol_name, amplitude in [('step1', 0.01), ('step2', 0.05)]:\n",
    "    stim = ephys.stimuli.NrnSquarePulse(\n",
    "                step_amplitude=amplitude,\n",
    "                step_delay=100,\n",
    "                step_duration=50,\n",
    "                location=soma_loc,\n",
    "                total_duration=200)\n",
    "    rec = ephys.recordings.CompRecording(\n",
    "            name='%s.soma.v' % protocol_name,\n",
    "            location=soma_loc,\n",
    "            variable='v')\n",
    "    protocol = ephys.protocols.SweepProtocol(protocol_name, [stim], [rec])\n",
    "    sweep_protocols.append(protocol)\n",
    "twostep_protocol = ephys.protocols.SequenceProtocol('twostep', protocols=sweep_protocols)"
   ]
  },
  {
   "cell_type": "markdown",
   "metadata": {
    "collapsed": true
   },
   "source": [
    "### Running protocols on a cell\n",
    "\n",
    "Now we're at a stage where we can actually run a protocol on the cell. "
   ]
  },
  {
   "cell_type": "code",
   "execution_count": 13,
   "metadata": {
    "collapsed": true
   },
   "outputs": [],
   "source": [
    "nrn = ephys.simulators.NrnSimulator()"
   ]
  },
  {
   "cell_type": "markdown",
   "metadata": {},
   "source": [
    "The run() method of a protocol accepts a cell model, a set of parameter values and a simulator"
   ]
  },
  {
   "cell_type": "code",
   "execution_count": 14,
   "metadata": {
    "collapsed": false
   },
   "outputs": [],
   "source": [
    "default_params = {'gnabar_hh': 0.1, 'gkbar_hh': 0.03}\n",
    "responses = twostep_protocol.run(cell_model=simple_cell, param_values=default_params, sim=nrn)"
   ]
  },
  {
   "cell_type": "markdown",
   "metadata": {},
   "source": [
    "Plotting the response traces is now easy:"
   ]
  },
  {
   "cell_type": "code",
   "execution_count": 15,
   "metadata": {
    "collapsed": false
   },
   "outputs": [
    {
     "data": {
      "image/png": "[encoded data removed]",
      "text/plain": [
       "<matplotlib.figure.Figure at 0x11113cc90>"
      ]
     },
     "metadata": {},
     "output_type": "display_data"
    }
   ],
   "source": [
    "def plot_responses(responses):\n",
    "    plt.subplot(2,1,1)\n",
    "    plt.plot(responses['step1.soma.v']['time'], responses['step1.soma.v']['voltage'], label='step1')\n",
    "    plt.legend()\n",
    "    plt.subplot(2,1,2)\n",
    "    plt.plot(responses['step2.soma.v']['time'], responses['step2.soma.v']['voltage'], label='step2')\n",
    "    plt.legend()\n",
    "    plt.tight_layout()\n",
    "\n",
    "plot_responses(responses)"
   ]
  },
  {
   "cell_type": "markdown",
   "metadata": {},
   "source": [
    "As you can see, when we use different parameter values, the response looks different."
   ]
  },
  {
   "cell_type": "code",
   "execution_count": 16,
   "metadata": {
    "collapsed": false
   },
   "outputs": [
    {
     "data": {
      "image/png": "[encoded data removed]",
      "text/plain": [
       "<matplotlib.figure.Figure at 0x111132d90>"
      ]
     },
     "metadata": {},
     "output_type": "display_data"
    }
   ],
   "source": [
    "other_params = {'gnabar_hh': 0.11, 'gkbar_hh': 0.04}\n",
    "plot_responses(twostep_protocol.run(cell_model=simple_cell, param_values=other_params, sim=nrn))"
   ]
  },
  {
   "cell_type": "code",
   "execution_count": null,
   "metadata": {
    "collapsed": true
   },
   "outputs": [],
   "source": []
  },
  {
   "cell_type": "markdown",
   "metadata": {
    "collapsed": true
   },
   "source": [
    "### Defining eFeatures and objectives\n",
    "\n",
    "For every response we need to define a set of eFeatures we will use for the fitness calculation later. We have to combine features together into objectives that will be used by the optimalisation algorithm. In this case we will create one objective per feature:"
   ]
  },
  {
   "cell_type": "code",
   "execution_count": 17,
   "metadata": {
    "collapsed": false
   },
   "outputs": [],
   "source": [
    "efel_feature_means = {'step1': {'Spikecount': 1}, 'step2': {'Spikecount': 5}}\n",
    "\n",
    "objectives = []\n",
    "\n",
    "for protocol in sweep_protocols:\n",
    "    stim_start = protocol.stimuli[0].step_delay\n",
    "    stim_end = stim_start + protocol.stimuli[0].step_duration\n",
    "    for efel_feature_name, mean in efel_feature_means[protocol.name].iteritems():\n",
    "        feature_name = '%s.%s' % (protocol.name, efel_feature_name)\n",
    "        feature = ephys.efeatures.eFELFeature(\n",
    "                    feature_name,\n",
    "                    efel_feature_name=efel_feature_name,\n",
    "                    recording_names={'': '%s.soma.v' % protocol.name},\n",
    "                    stim_start=stim_start,\n",
    "                    stim_end=stim_end,\n",
    "                    exp_mean=mean,\n",
    "                    exp_std=0.05 * mean)\n",
    "        objective = ephys.objectives.SingletonObjective(\n",
    "            feature_name,\n",
    "            feature)\n",
    "        objectives.append(objective)"
   ]
  },
  {
   "cell_type": "markdown",
   "metadata": {},
   "source": [
    "### Creating the cell evaluator\n",
    "\n",
    "We will need an object that can use these objective definitions to calculate the scores from a protocol response. This is called a ScoreCalculator."
   ]
  },
  {
   "cell_type": "code",
   "execution_count": 18,
   "metadata": {
    "collapsed": false
   },
   "outputs": [],
   "source": [
    "score_calc = ephys.objectivescalculators.ObjectivesCalculator(objectives) "
   ]
  },
  {
   "cell_type": "markdown",
   "metadata": {},
   "source": [
    "Combining everything together we have a CellEvaluator. The CellEvaluator constructor has a field 'parameter_names' which contains the (ordered) list of names of the parameters that are used as input (and will be fitted later on)."
   ]
  },
  {
   "cell_type": "code",
   "execution_count": 19,
   "metadata": {
    "collapsed": false
   },
   "outputs": [],
   "source": [
    "cell_evaluator = ephys.evaluators.CellEvaluator(\n",
    "        cell_model=simple_cell,\n",
    "        param_names=['gnabar_hh', 'gkbar_hh'],\n",
    "        fitness_protocols={twostep_protocol.name: twostep_protocol},\n",
    "        fitness_calculator=score_calc,\n",
    "        sim=nrn)"
   ]
  },
  {
   "cell_type": "markdown",
   "metadata": {},
   "source": [
    "### Evaluating the cell\n",
    "\n",
    "The cell can now be evaluate for a certain set of parameter values."
   ]
  },
  {
   "cell_type": "code",
   "execution_count": 20,
   "metadata": {
    "collapsed": false
   },
   "outputs": [
    {
     "name": "stdout",
     "output_type": "stream",
     "text": [
      "{'step2.Spikecount': 0.0, 'step1.Spikecount': 0.0}\n",
      "{'step2.Spikecount': 4.0, 'step1.Spikecount': 0.0}\n"
     ]
    }
   ],
   "source": [
    "print cell_evaluator.evaluate_with_dicts(default_params)\n",
    "print cell_evaluator.evaluate_with_dicts(other_params)"
   ]
  },
  {
   "cell_type": "markdown",
   "metadata": {
    "collapsed": true
   },
   "source": [
    "## Setting up and running an optimisation\n",
    "\n",
    "Now that we have a cell template and an evaluator for this cell, we can set up an optimisation."
   ]
  },
  {
   "cell_type": "code",
   "execution_count": 21,
   "metadata": {
    "collapsed": false
   },
   "outputs": [],
   "source": [
    "optimisation = bpop.optimisations.DEAPOptimisation(\n",
    "        evaluator=cell_evaluator,\n",
    "        offspring_size = 20,\n",
    "        seed=2, eta=10)"
   ]
  },
  {
   "cell_type": "markdown",
   "metadata": {},
   "source": [
    "And this optimisation can be run for a certain number of generations"
   ]
  },
  {
   "cell_type": "code",
   "execution_count": 22,
   "metadata": {
    "collapsed": false
   },
   "outputs": [
    {
     "name": "stdout",
     "output_type": "stream",
     "text": [
      "gen\tnevals\tavg  \tstd    \tmin\tmax\n",
      "1  \t20    \t77.8 \t120.978\t4  \t500\n",
      "2  \t20    \t96.95\t148.431\t4  \t500\n",
      "3  \t20    \t61.4 \t125.662\t4  \t500\n",
      "4  \t20    \t87.85\t161.234\t0  \t500\n",
      "5  \t20    \t37.8 \t107.13 \t0  \t500\n",
      "6  \t20    \t63.4 \t146.442\t0  \t500\n",
      "7  \t20    \t64.5 \t126.743\t0  \t500\n",
      "8  \t20    \t82.4 \t175.906\t0  \t500\n",
      "9  \t20    \t70.3 \t162.989\t0  \t500\n",
      "10 \t20    \t87.85\t178.354\t0  \t500\n"
     ]
    }
   ],
   "source": [
    "final_pop, hall_of_fame, logs, hist = optimisation.run(max_ngen=10)"
   ]
  },
  {
   "cell_type": "markdown",
   "metadata": {
    "collapsed": true
   },
   "source": [
    "The optimisation has return us 4 objects: final population, hall of fame, statistical logs and history. \n",
    "\n",
    "The final population contains a list of tuples, with each tuple representing the two parameters of the model"
   ]
  },
  {
   "cell_type": "code",
   "execution_count": 23,
   "metadata": {
    "collapsed": false
   },
   "outputs": [
    {
     "name": "stdout",
     "output_type": "stream",
     "text": [
      "Final population:  [[0.05652688604678696, 0.016574097744119873], [0.05652688604678696, 0.016574097744119873], [0.05652688604678696, 0.016574097744119873], [0.03461500485754654, 0.009182297517097732], [0.05652688604678696, 0.016574097744119873], [0.03461500485754654, 0.009182297517097732], [0.05652688604678696, 0.018578783714750663], [0.05652688604678696, 0.016574097744119873], [0.03461500485754654, 0.009182297517097732], [0.05652688604678696, 0.018578783714750663], [0.05652688604678696, 0.016574097744119873], [0.03461500485754654, 0.009182297517097732], [0.03461500485754654, 0.009182297517097732], [0.03461500485754654, 0.009182297517097732], [0.05652688604678696, 0.016574097744119873], [0.05652688604678696, 0.016574097744119873], [0.03461500485754654, 0.009182297517097732], [0.05652688604678696, 0.016574097744119873], [0.05652688604678696, 0.016574097744119873], [0.05652688604678696, 0.016574097744119873], [0.04827484665169818, 0.01326899753340298], [0.05652688604678696, 0.01849019954084841], [0.05652688604678696, 0.016574097744119873], [0.05652688604678696, 0.016574097744119873], [0.05652688604678696, 0.016574097744119873], [0.03461500485754654, 0.012347290917551684], [0.06213401364237109, 0.016574097744119873], [0.04763906186640393, 0.018578783714750663], [0.03478472031570791, 0.015586672531978304], [0.03582863928282773, 0.06471877684377626], [0.05652688604678696, 0.05405845376751202], [0.08086659359671056, 0.0007966321764063256], [0.005820679634456816, 0.016574097744119873], [0.12457094404416397, 0.007899560797985004], [0.05635717066466255, 0.009182297517097732], [0.055313251690183675, 0.008976045102721554], [0.17552453583733552, 0.004084035016223647], [0.03461500485754654, 0.00518773385084717], [0.08939030759133326, 0.009182297517097732], [0.05652688604678696, 0.01218535412429593]]\n"
     ]
    }
   ],
   "source": [
    "print 'Final population: ', final_pop"
   ]
  },
  {
   "cell_type": "markdown",
   "metadata": {},
   "source": [
    "The best individual found during the optimisation is the first individual of the hall of fame"
   ]
  },
  {
   "cell_type": "code",
   "execution_count": 24,
   "metadata": {
    "collapsed": false
   },
   "outputs": [
    {
     "name": "stdout",
     "output_type": "stream",
     "text": [
      "Best individual:  [0.05652688604678696, 0.01849019954084841]\n",
      "Fitness values:  (0.0, 0.0)\n"
     ]
    }
   ],
   "source": [
    "best_ind = hall_of_fame[0]\n",
    "print 'Best individual: ', best_ind\n",
    "print 'Fitness values: ', best_ind.fitness.values"
   ]
  },
  {
   "cell_type": "markdown",
   "metadata": {},
   "source": [
    "We can evaluate this individual and make use of a convenience function of the cell evaluator to return us a dict of the parameters"
   ]
  },
  {
   "cell_type": "code",
   "execution_count": 25,
   "metadata": {
    "collapsed": false
   },
   "outputs": [
    {
     "name": "stdout",
     "output_type": "stream",
     "text": [
      "{'step2.Spikecount': 0.0, 'step1.Spikecount': 0.0}\n"
     ]
    }
   ],
   "source": [
    "best_ind_dict = cell_evaluator.param_dict(best_ind)\n",
    "print cell_evaluator.evaluate_with_dicts(best_ind_dict)"
   ]
  },
  {
   "cell_type": "markdown",
   "metadata": {},
   "source": [
    "As you can see the evaluation returns the same values as the fitness values provided by the optimisation output. \n",
    "We can have a look at the responses now."
   ]
  },
  {
   "cell_type": "code",
   "execution_count": 26,
   "metadata": {
    "collapsed": false
   },
   "outputs": [
    {
     "data": {
      "image/png": "[encoded data removed]",
      "text/plain": [
       "<matplotlib.figure.Figure at 0x111798990>"
      ]
     },
     "metadata": {},
     "output_type": "display_data"
    }
   ],
   "source": [
    "plot_responses(twostep_protocol.run(cell_model=simple_cell, param_values=best_ind_dict, sim=nrn))"
   ]
  },
  {
   "cell_type": "markdown",
   "metadata": {},
   "source": [
    "Let's have a look at the optimisation statistics.\n",
    "We can plot the minimal score (sum of all objective scores) found in every optimisation. \n",
    "The optimisation algorithm uses negative fitness scores, so we actually have to look at the maximum values log."
   ]
  },
  {
   "cell_type": "code",
   "execution_count": 27,
   "metadata": {
    "collapsed": false
   },
   "outputs": [
    {
     "name": "stderr",
     "output_type": "stream",
     "text": [
      "/usr/local/lib/python2.7/site-packages/matplotlib/tri/triangulation.py:110: FutureWarning: comparison to `None` will result in an elementwise object comparison in the future.\n",
      "  self._neighbors)\n",
      "/usr/local/lib/python2.7/site-packages/matplotlib/collections.py:590: FutureWarning: elementwise comparison failed; returning scalar instead, but in the future will perform elementwise comparison\n",
      "  if self._edgecolors == str('face'):\n",
      "/usr/local/lib/python2.7/site-packages/matplotlib/figure.py:387: UserWarning: matplotlib is currently using a non-GUI backend, so cannot show the figure\n",
      "  \"matplotlib is currently using a non-GUI backend, \"\n"
     ]
    },
    {
     "data": {
      "image/png": "[encoded data removed]",
      "text/plain": [
       "<matplotlib.figure.Figure at 0x1112ad7d0>"
      ]
     },
     "metadata": {},
     "output_type": "display_data"
    }
   ],
   "source": [
    "import numpy\n",
    "gen_numbers = logs.select('gen')\n",
    "min_fitness = logs.select('min')\n",
    "max_fitness = logs.select('max')\n",
    "fig, ax = plt.subplots(3, figsize=(10, 10), facecolor='white')\n",
    "ax[0].plot(responses['step1.soma.v']['time'], responses['step1.soma.v']['voltage'], label='Step1')\n",
    "ax[0].plot(responses['step2.soma.v']['time'], responses['step2.soma.v']['voltage'], label='Step2')\n",
    "ax[0].set_xlabel('Time (ms)')\n",
    "ax[0].set_ylabel('Voltage (mV)')\n",
    "ax[0].legend()\n",
    "\n",
    "ax[1].plot(gen_numbers, min_fitness, label='min fitness')\n",
    "ax[1].set_xlabel('Generation #')\n",
    "ax[1].set_ylabel('Score (# std)')\n",
    "ax[1].legend()\n",
    "ax[1].set_xlim(min(gen_numbers) - 1, max(gen_numbers) + 1) \n",
    "ax[1].set_ylim(0.9*min(min_fitness), 1.1 * max(min_fitness)) \n",
    "\n",
    "all_inds = hist.genealogy_history.values()\n",
    "gnabars = numpy.array([ind[0] for ind in all_inds if ind.fitness.valid])\n",
    "gkbars = numpy.array([ind[1] for ind in all_inds if ind.fitness.valid])\n",
    "sums = numpy.array([ind.fitness.sum for ind in all_inds if ind.fitness.valid])\n",
    "\n",
    "X = numpy.linspace(gnabar_param.bounds[0], gnabar_param.bounds[1], 150)\n",
    "Y = numpy.linspace(gkbar_param.bounds[0], gkbar_param.bounds[1], 150)\n",
    "# X,Y = numpy.meshgrid(xg,yg)\n",
    "import matplotlib\n",
    "# import scipy.interpolate\n",
    "# Z1 = scipy.interpolate.griddata(numpy.vstack((gnabars.flatten(), gkbars.flatten())).T, numpy.vstack(sums.flatten()), (X, Y), method='linear').reshape(X.shape)\n",
    "Z = matplotlib.mlab.griddata(gnabars, gkbars, sums, X, Y, interp='linear')\n",
    "# Z1m = numpy.ma.masked_where(numpy.isnan(Z1),Z1)\n",
    "mesh_axes = ax[2].pcolormesh(X,Y,Z)\n",
    "ax[2].set_xlabel('gnabar')\n",
    "ax[2].set_ylabel('gkbar')\n",
    "plt.colorbar(mesh_axes, label='Sum objectives')\n",
    "fig.tight_layout()\n",
    "# print X, Y\n",
    "# print Z\n",
    "fig.savefig('figures/simplecell.eps')\n",
    "fig.show()"
   ]
  },
  {
   "cell_type": "code",
   "execution_count": null,
   "metadata": {
    "collapsed": false
   },
   "outputs": [],
   "source": []
  },
  {
   "cell_type": "code",
   "execution_count": null,
   "metadata": {
    "collapsed": true
   },
   "outputs": [],
   "source": []
  }
 ],
 "metadata": {
  "kernelspec": {
   "display_name": "Python 2",
   "language": "python",
   "name": "python2"
  },
  "language_info": {
   "codemirror_mode": {
    "name": "ipython",
    "version": 2
   },
   "file_extension": ".py",
   "mimetype": "text/x-python",
   "name": "python",
   "nbconvert_exporter": "python",
   "pygments_lexer": "ipython2",
   "version": "2.7.11"
  }
 },
 "nbformat": 4,
 "nbformat_minor": 0
}
